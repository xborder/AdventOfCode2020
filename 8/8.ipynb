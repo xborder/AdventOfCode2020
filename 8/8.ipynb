{
 "cells": [
  {
   "cell_type": "code",
   "execution_count": 1,
   "metadata": {},
   "source": [
    "using System.IO;\n",
    "\n",
    "string[] lines = File.ReadAllLines(\"input\");\n",
    "\n",
    "(string inst, int i)[] instructions = new (string,int)[lines.Length];\n",
    "\n",
    "int i = 0;\n",
    "foreach (var line in lines)  {\n",
    "    var instruction = line.Split(\" \");\n",
    "    instructions[i++] = (instruction[0], Int32.Parse(instruction[1]));\n",
    "}\n",
    "\n",
    "HashSet<int> instructionsRan = new HashSet<int>();\n",
    "//Execute\n",
    "var acc = 0;\n",
    "for (int pointer = 0; pointer < instructions.Length; ) {\n",
    "    if (instructionsRan.Contains(pointer)) {\n",
    "        break;\n",
    "    }\n",
    "    instructionsRan.Add(pointer);\n",
    "    switch(instructions[pointer].inst) {\n",
    "        case \"nop\": break;\n",
    "        case \"acc\": acc += instructions[pointer].i; break;\n",
    "        case \"jmp\": pointer += instructions[pointer].i; continue;\n",
    "    }\n",
    "    pointer++;\n",
    "}\n",
    "Console.Write(acc);"
   ],
   "outputs": [
    {
     "output_type": "execute_result",
     "data": {
      "text/plain": "1654"
     },
     "execution_count": 1,
     "metadata": {}
    }
   ]
  },
  {
   "cell_type": "code",
   "execution_count": 1,
   "metadata": {},
   "source": [
    "using System.IO;\n",
    "\n",
    "string[] lines = File.ReadAllLines(\"input\");\n",
    "\n",
    "(string inst, int i)[] instructions = new (string,int)[lines.Length];\n",
    "\n",
    "int i = 0;\n",
    "foreach (var line in lines)  {\n",
    "    var instruction = line.Split(\" \");\n",
    "    instructions[i++] = (instruction[0], Int32.Parse(instruction[1]));\n",
    "}\n",
    "\n",
    "HashSet<int> instructionsRan = new HashSet<int>();\n",
    "//Execute\n",
    "var acc = 0;\n",
    "for (int pointer = 0; pointer < instructions.Length; ) {\n",
    "    var inc = 1;\n",
    "    switch(instructions[pointer].inst) {\n",
    "        case \"nop\": break;\n",
    "        case \"acc\": acc += instructions[pointer].i; break;\n",
    "        case \"jmp\": inc = instructions[pointer].i; continue;\n",
    "    }\n",
    "    \n",
    "    pointer += inc;\n",
    "    \n",
    "    if (instructionsRan.Contains(pointer)) {\n",
    "        pointer -= inc;\n",
    "        instructions[pointer].inst = instructions[pointer].inst == \"nop\" ? \"jmp\" : \"nop\";\n",
    "        continue; \n",
    "    } else {\n",
    "        instructionsRan.Add(pointer);\n",
    "    }\n",
    "}\n",
    "Console.Write(acc);"
   ],
   "outputs": []
  }
 ],
 "metadata": {
  "kernelspec": {
   "display_name": ".NET (C#)",
   "language": "C#",
   "name": ".net-csharp"
  },
  "language_info": {
   "file_extension": ".cs",
   "mimetype": "text/x-csharp",
   "name": "C#",
   "pygments_lexer": "csharp",
   "version": "8.0"
  }
 },
 "nbformat": 4,
 "nbformat_minor": 4
}