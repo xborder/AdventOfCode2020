{
 "cells": [
  {
   "cell_type": "code",
   "execution_count": 1,
   "metadata": {},
   "source": [
    "using System.IO;\n",
    "\n",
    "string[] lines = File.ReadAllLines(\"input\");\n",
    "\n",
    "(string inst, int i)[] instructions = new (string,int)[lines.Length];\n",
    "\n",
    "int i = 0;\n",
    "foreach (var line in lines)  {\n",
    "    var instruction = line.Split(\" \");\n",
    "    instructions[i++] = (instruction[0], Int32.Parse(instruction[1]));\n",
    "}\n",
    "\n",
    "HashSet<int> instructionsRan = new HashSet<int>();\n",
    "//Execute\n",
    "var acc = 0;\n",
    "for (int pointer = 0; pointer < instructions.Length; ) {\n",
    "    if (instructionsRan.Contains(pointer)) {\n",
    "        break;\n",
    "    }\n",
    "    instructionsRan.Add(pointer);\n",
    "    switch(instructions[pointer].inst) {\n",
    "        case \"nop\": break;\n",
    "        case \"acc\": acc += instructions[pointer].i; break;\n",
    "        case \"jmp\": pointer += instructions[pointer].i; continue;\n",
    "    }\n",
    "    pointer++;\n",
    "}\n",
    "Console.Write(acc);"
   ],
   "outputs": [
    {
     "output_type": "execute_result",
     "data": {
      "text/plain": "1654"
     },
     "execution_count": 1,
     "metadata": {}
    }
   ]
  },
  {
   "cell_type": "code",
   "execution_count": 1,
   "metadata": {},
   "source": [
    "using System.IO;\n",
    "\n",
    "string[] lines = File.ReadAllLines(\"input\");\n",
    "\n",
    "(string inst, int i)[] instructions = new (string,int)[lines.Length];\n",
    "\n",
    "int i = 0;\n",
    "foreach (var line in lines)  {\n",
    "    var instruction = line.Split(\" \");\n",
    "    instructions[i++] = (instruction[0], Int32.Parse(instruction[1]));\n",
    "}\n",
    "\n",
    "int Execute((string inst, int i)[] instructions) {\n",
    "    HashSet<int> instructionsRan = new HashSet<int>();\n",
    "    //Execute\n",
    "    var acc = 0;\n",
    "    for (int pointer = 0; pointer < instructions.Length; ) {\n",
    "        if (instructionsRan.Contains(pointer)) {\n",
    "            return -1;\n",
    "        }\n",
    "        instructionsRan.Add(pointer);\n",
    "        switch(instructions[pointer].inst) {\n",
    "            case \"nop\": break;\n",
    "            case \"acc\": acc += instructions[pointer].i; break;\n",
    "            case \"jmp\": pointer += instructions[pointer].i; continue;\n",
    "        }\n",
    "        pointer++;\n",
    "    }\n",
    "    return acc;\n",
    "}\n",
    "\n",
    "for(int i = 0; i < instructions.Length; i++) {\n",
    "    var tmp = ((string inst, int i)[])instructions.Clone();\n",
    "    if (instructions[i].inst == \"nop\" || instructions[i].inst == \"jmp\") {\n",
    "        tmp[i].inst = instructions[i].inst == \"jmp\" ? \"nop\": \"jmp\";\n",
    "        var ret = Execute(tmp);\n",
    "        if (ret != -1) {\n",
    "            Console.Write(ret);\n",
    "            break;\n",
    "        }\n",
    "    }\n",
    "}"
   ],
   "outputs": [
    {
     "output_type": "execute_result",
     "data": {
      "text/plain": "833"
     },
     "execution_count": 1,
     "metadata": {}
    }
   ]
  }
 ],
 "metadata": {
  "kernelspec": {
   "display_name": ".NET (C#)",
   "language": "C#",
   "name": ".net-csharp"
  },
  "language_info": {
   "file_extension": ".cs",
   "mimetype": "text/x-csharp",
   "name": "C#",
   "pygments_lexer": "csharp",
   "version": "8.0"
  }
 },
 "nbformat": 4,
 "nbformat_minor": 4
}