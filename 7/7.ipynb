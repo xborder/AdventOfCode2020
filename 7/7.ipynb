{
 "cells": [
  {
   "cell_type": "code",
   "execution_count": 1,
   "metadata": {},
   "source": [
    "using System.IO;\n",
    "\n",
    "void printRules(Dictionary<string, Dictionary<string,int>> rules) {\n",
    "    foreach(var kv in rules) {\n",
    "        Console.WriteLine(kv.Key);\n",
    "        foreach(var x in kv.Value) {\n",
    "            Console.WriteLine($\"\\t\\t {x.Key}\\t{x.Value}\");\n",
    "        }\n",
    "    }\n",
    "}\n",
    "\n",
    "var rules = new Dictionary<string,Dictionary<string, int>>();\n",
    "\n",
    "using(var reader = new StreamReader(\"input\")) {\n",
    "    string line = null;\n",
    "    while((line = reader.ReadLine()) != null) {\n",
    "        var rule = line.Split(\" bags contain \");\n",
    "        var outerBag = rule[0];\n",
    "        var innerBags = rule[1];\n",
    "\n",
    "        rules.Add(outerBag, new Dictionary<string,int>());\n",
    "\n",
    "        foreach (var innerBagList in innerBags.Split(\", \")) {\n",
    "            if (innerBagList.Equals(\"no other bags.\")) {\n",
    "                continue;\n",
    "            };\n",
    "            var tokens = innerBagList.Split(\" \");\n",
    "            var bag = tokens[1] + \" \" + tokens[2];\n",
    "            var amount = Int32.Parse(tokens[0]);\n",
    "            \n",
    "            if (rules[outerBag].ContainsKey(bag)) {\n",
    "                rules[outerBag][bag] += amount;\n",
    "            } else {\n",
    "                rules[outerBag].Add(bag, amount);\n",
    "            }\n",
    "        }\n",
    "    }\n",
    "}\n",
    "\n",
    "//printRules(rules);\n",
    "\n",
    "var queue = new Queue<string>();\n",
    "var visited = new HashSet<string>();\n",
    "\n",
    "int findBag(string bag) {\n",
    "    int count = 0;\n",
    "    foreach (var outer in rules) {\n",
    "        if (outer.Value.Keys.Contains(bag) && !visited.Contains(outer.Key)) {\n",
    "            queue.Enqueue(outer.Key);\n",
    "            visited.Add(outer.Key);\n",
    "            count++;\n",
    "        }\n",
    "    }\n",
    "    return count;\n",
    "}\n",
    "\n",
    "var leastAmountBags = findBag(\"shiny gold\");\n",
    "while (queue.Count > 0) {\n",
    "    var bag = queue.Dequeue();\n",
    "    leastAmountBags += findBag(bag);\n",
    "}\n",
    "\n",
    "Console.WriteLine(leastAmountBags);"
   ],
   "outputs": [
    {
     "output_type": "execute_result",
     "data": {
      "text/plain": "246\r\n"
     },
     "execution_count": 1,
     "metadata": {}
    }
   ]
  },
  {
   "cell_type": "code",
   "execution_count": 1,
   "metadata": {},
   "source": [
    "using System.IO;\n",
    "\n",
    "var rules = new Dictionary<string,Dictionary<string, int>>();\n",
    "\n",
    "var totalBags = new Dictionary<string, int>();\n",
    "using(var reader = new StreamReader(\"input\")) {\n",
    "    string line = null;\n",
    "    while((line = reader.ReadLine()) != null) {\n",
    "        var rule = line.Split(\" bags contain \");\n",
    "        var outerBag = rule[0];\n",
    "        var innerBags = rule[1];\n",
    "\n",
    "        rules.Add(outerBag, new Dictionary<string,int>());\n",
    "        \n",
    "        foreach (var innerBagList in innerBags.Split(\", \")) {\n",
    "            if (innerBagList.Equals(\"no other bags.\")) {                \n",
    "                continue;\n",
    "            };\n",
    "            var tokens = innerBagList.Split(\" \");\n",
    "            var bag = tokens[1] + \" \" + tokens[2];\n",
    "            var amount = Int32.Parse(tokens[0]);\n",
    "            \n",
    "            if (rules[outerBag].ContainsKey(bag)) {\n",
    "                rules[outerBag][bag] += amount;\n",
    "            } else {\n",
    "                rules[outerBag].Add(bag, amount);\n",
    "            }\n",
    "        }\n",
    "        \n",
    "        totalBags.Add(outerBag, 0);\n",
    "    }\n",
    "}\n",
    "\n",
    "void printRules(Dictionary<string, Dictionary<string,int>> rules) {\n",
    "    foreach(var kv in rules) {\n",
    "        Console.WriteLine(kv.Key);\n",
    "        foreach(var x in kv.Value) {\n",
    "            Console.WriteLine($\"\\t\\t {x.Key}\\t{x.Value}\");\n",
    "        }\n",
    "    }\n",
    "}\n",
    "\n",
    "var visited = new Dictionary<string, int>();\n",
    "\n",
    "int test(string bag, int iteration) {\n",
    "    var amount = 0;\n",
    "    Console.WriteLine($\"{new String('\\t',iteration)}Checking {bag}\");\n",
    "    foreach(var innerBags in rules[bag]) {\n",
    "        //if(!visited.ContainsKey(innerBags.Key)) {\n",
    "            Console.WriteLine($\"{new String('\\t',iteration+1)}\\t({innerBags.Key},{innerBags.Value})\");\n",
    "            var innerAmount = test(innerBags.Key, iteration  + 2);\n",
    "            Console.WriteLine($\"{new String('\\t',iteration+1)}\\tInner Amount:{innerAmount}\");\n",
    "            amount += innerBags.Value + innerBags.Value * innerAmount;\n",
    "        //    visited.Add(innerBags.Key, innerBags.Value + innerBags.Value * innerAmount);\n",
    "            Console.WriteLine($\"{new String('\\t',iteration+1)}\\tTotal Amount:{amount}\");\n",
    "        //} else {\n",
    "        //    Console.WriteLine($\"{new String('\\t',iteration+1)}\\tCache {innerBags.Key},{visited[innerBags.Key]}\");\n",
    "        //    amount += innerBags.Value+visited[innerBags.Key];\n",
    "        //}\n",
    "    }\n",
    "    return amount;\n",
    "}\n",
    "\n",
    "var leastAmountBags = test(\"shiny gold\", 0);\n",
    "\n",
    "Console.WriteLine(leastAmountBags);"
   ],
   "outputs": [
    {
     "output_type": "execute_result",
     "data": {
      "text/plain": "Checking shiny gold\r\n"
     },
     "execution_count": 1,
     "metadata": {}
    },
    {
     "output_type": "execute_result",
     "data": {
      "text/plain": "\t\t(dark salmon,5)\r\n"
     },
     "execution_count": 1,
     "metadata": {}
    },
    {
     "output_type": "execute_result",
     "data": {
      "text/plain": "\t\tChecking dark salmon\r\n"
     },
     "execution_count": 1,
     "metadata": {}
    },
    {
     "output_type": "execute_result",
     "data": {
      "text/plain": "\t\t\t\t(pale turquoise,3)\r\n"
     },
     "execution_count": 1,
     "metadata": {}
    },
    {
     "output_type": "execute_result",
     "data": {
      "text/plain": "\t\t\t\tChecking pale turquoise\r\n"
     },
     "execution_count": 1,
     "metadata": {}
    },
    {
     "output_type": "execute_result",
     "data": {
      "text/plain": "\t\t\t\t\t\t(vibrant red,3)\r\n"
     },
     "execution_count": 1,
     "metadata": {}
    },
    {
     "output_type": "execute_result",
     "data": {
      "text/plain": "\t\t\t\t\t\tChecking vibrant red\r\n"
     },
     "execution_count": 1,
     "metadata": {}
    },
    {
     "output_type": "execute_result",
     "data": {
      "text/plain": "\t\t\t\t\t\tInner Amount:0\r\n"
     },
     "execution_count": 1,
     "metadata": {}
    },
    {
     "output_type": "execute_result",
     "data": {
      "text/plain": "\t\t\t\t\t\tTotal Amount:3\r\n"
     },
     "execution_count": 1,
     "metadata": {}
    },
    {
     "output_type": "execute_result",
     "data": {
      "text/plain": "\t\t\t\tInner Amount:3\r\n"
     },
     "execution_count": 1,
     "metadata": {}
    },
    {
     "output_type": "execute_result",
     "data": {
      "text/plain": "\t\t\t\tTotal Amount:12\r\n"
     },
     "execution_count": 1,
     "metadata": {}
    },
    {
     "output_type": "execute_result",
     "data": {
      "text/plain": "\t\t\t\t(faded tan,5)\r\n"
     },
     "execution_count": 1,
     "metadata": {}
    },
    {
     "output_type": "execute_result",
     "data": {
      "text/plain": "\t\t\t\tChecking faded tan\r\n"
     },
     "execution_count": 1,
     "metadata": {}
    },
    {
     "output_type": "execute_result",
     "data": {
      "text/plain": "\t\t\t\t\t\t(muted plum,1)\r\n"
     },
     "execution_count": 1,
     "metadata": {}
    },
    {
     "output_type": "execute_result",
     "data": {
      "text/plain": "\t\t\t\t\t\tChecking muted plum\r\n"
     },
     "execution_count": 1,
     "metadata": {}
    },
    {
     "output_type": "execute_result",
     "data": {
      "text/plain": "\t\t\t\t\t\t\t\t(dull red,4)\r\n"
     },
     "execution_count": 1,
     "metadata": {}
    },
    {
     "output_type": "execute_result",
     "data": {
      "text/plain": "\t\t\t\t\t\t\t\tChecking dull red\r\n"
     },
     "execution_count": 1,
     "metadata": {}
    },
    {
     "output_type": "execute_result",
     "data": {
      "text/plain": "\t\t\t\t\t\t\t\t\t\t(dotted maroon,2)\r\n"
     },
     "execution_count": 1,
     "metadata": {}
    },
    {
     "output_type": "execute_result",
     "data": {
      "text/plain": "\t\t\t\t\t\t\t\t\t\tChecking dotted maroon\r\n"
     },
     "execution_count": 1,
     "metadata": {}
    },
    {
     "output_type": "execute_result",
     "data": {
      "text/plain": "\t\t\t\t\t\t\t\t\t\tInner Amount:0\r\n"
     },
     "execution_count": 1,
     "metadata": {}
    },
    {
     "output_type": "execute_result",
     "data": {
      "text/plain": "\t\t\t\t\t\t\t\t\t\tTotal Amount:2\r\n"
     },
     "execution_count": 1,
     "metadata": {}
    },
    {
     "output_type": "execute_result",
     "data": {
      "text/plain": "\t\t\t\t\t\t\t\t\t\t(posh salmon,1)\r\n"
     },
     "execution_count": 1,
     "metadata": {}
    },
    {
     "output_type": "execute_result",
     "data": {
      "text/plain": "\t\t\t\t\t\t\t\t\t\tChecking posh salmon\r\n"
     },
     "execution_count": 1,
     "metadata": {}
    },
    {
     "output_type": "execute_result",
     "data": {
      "text/plain": "\t\t\t\t\t\t\t\t\t\tInner Amount:0\r\n"
     },
     "execution_count": 1,
     "metadata": {}
    },
    {
     "output_type": "execute_result",
     "data": {
      "text/plain": "\t\t\t\t\t\t\t\t\t\tTotal Amount:3\r\n"
     },
     "execution_count": 1,
     "metadata": {}
    },
    {
     "output_type": "execute_result",
     "data": {
      "text/plain": "\t\t\t\t\t\t\t\t\t\t(dotted chartreuse,3)\r\n"
     },
     "execution_count": 1,
     "metadata": {}
    },
    {
     "output_type": "execute_result",
     "data": {
      "text/plain": "\t\t\t\t\t\t\t\t\t\tChecking dotted chartreuse\r\n"
     },
     "execution_count": 1,
     "metadata": {}
    },
    {
     "output_type": "execute_result",
     "data": {
      "text/plain": "\t\t\t\t\t\t\t\t\t\tInner Amount:0\r\n"
     },
     "execution_count": 1,
     "metadata": {}
    },
    {
     "output_type": "execute_result",
     "data": {
      "text/plain": "\t\t\t\t\t\t\t\t\t\tTotal Amount:6\r\n"
     },
     "execution_count": 1,
     "metadata": {}
    },
    {
     "output_type": "execute_result",
     "data": {
      "text/plain": "\t\t\t\t\t\t\t\t\t\t(dim yellow,2)\r\n"
     },
     "execution_count": 1,
     "metadata": {}
    },
    {
     "output_type": "execute_result",
     "data": {
      "text/plain": "\t\t\t\t\t\t\t\t\t\tChecking dim yellow\r\n"
     },
     "execution_count": 1,
     "metadata": {}
    },
    {
     "output_type": "execute_result",
     "data": {
      "text/plain": "\t\t\t\t\t\t\t\t\t\t\t\t(dotted chartreuse,1)\r\n"
     },
     "execution_count": 1,
     "metadata": {}
    },
    {
     "output_type": "execute_result",
     "data": {
      "text/plain": "\t\t\t\t\t\t\t\t\t\t\t\tChecking dotted chartreuse\r\n"
     },
     "execution_count": 1,
     "metadata": {}
    },
    {
     "output_type": "execute_result",
     "data": {
      "text/plain": "\t\t\t\t\t\t\t\t\t\t\t\tInner Amount:0\r\n"
     },
     "execution_count": 1,
     "metadata": {}
    },
    {
     "output_type": "execute_result",
     "data": {
      "text/plain": "\t\t\t\t\t\t\t\t\t\t\t\tTotal Amount:1\r\n"
     },
     "execution_count": 1,
     "metadata": {}
    },
    {
     "output_type": "execute_result",
     "data": {
      "text/plain": "\t\t\t\t\t\t\t\t\t\tInner Amount:1\r\n"
     },
     "execution_count": 1,
     "metadata": {}
    },
    {
     "output_type": "execute_result",
     "data": {
      "text/plain": "\t\t\t\t\t\t\t\t\t\tTotal Amount:10\r\n"
     },
     "execution_count": 1,
     "metadata": {}
    },
    {
     "output_type": "execute_result",
     "data": {
      "text/plain": "\t\t\t\t\t\t\t\tInner Amount:10\r\n"
     },
     "execution_count": 1,
     "metadata": {}
    },
    {
     "output_type": "execute_result",
     "data": {
      "text/plain": "\t\t\t\t\t\t\t\tTotal Amount:44\r\n"
     },
     "execution_count": 1,
     "metadata": {}
    },
    {
     "output_type": "execute_result",
     "data": {
      "text/plain": "\t\t\t\t\t\t\t\t(dotted maroon,1)\r\n"
     },
     "execution_count": 1,
     "metadata": {}
    },
    {
     "output_type": "execute_result",
     "data": {
      "text/plain": "\t\t\t\t\t\t\t\tChecking dotted maroon\r\n"
     },
     "execution_count": 1,
     "metadata": {}
    },
    {
     "output_type": "execute_result",
     "data": {
      "text/plain": "\t\t\t\t\t\t\t\tInner Amount:0\r\n"
     },
     "execution_count": 1,
     "metadata": {}
    },
    {
     "output_type": "execute_result",
     "data": {
      "text/plain": "\t\t\t\t\t\t\t\tTotal Amount:45\r\n"
     },
     "execution_count": 1,
     "metadata": {}
    },
    {
     "output_type": "execute_result",
     "data": {
      "text/plain": "\t\t\t\t\t\t\t\t(vibrant red,1)\r\n"
     },
     "execution_count": 1,
     "metadata": {}
    },
    {
     "output_type": "execute_result",
     "data": {
      "text/plain": "\t\t\t\t\t\t\t\tChecking vibrant red\r\n"
     },
     "execution_count": 1,
     "metadata": {}
    },
    {
     "output_type": "execute_result",
     "data": {
      "text/plain": "\t\t\t\t\t\t\t\tInner Amount:0\r\n"
     },
     "execution_count": 1,
     "metadata": {}
    },
    {
     "output_type": "execute_result",
     "data": {
      "text/plain": "\t\t\t\t\t\t\t\tTotal Amount:46\r\n"
     },
     "execution_count": 1,
     "metadata": {}
    },
    {
     "output_type": "execute_result",
     "data": {
      "text/plain": "\t\t\t\t\t\t\t\t(bright chartreuse,4)\r\n"
     },
     "execution_count": 1,
     "metadata": {}
    },
    {
     "output_type": "execute_result",
     "data": {
      "text/plain": "\t\t\t\t\t\t\t\tChecking bright chartreuse\r\n"
     },
     "execution_count": 1,
     "metadata": {}
    },
    {
     "output_type": "execute_result",
     "data": {
      "text/plain": "\t\t\t\t\t\t\t\t\t\t(muted gold,1)\r\n"
     },
     "execution_count": 1,
     "metadata": {}
    },
    {
     "output_type": "execute_result",
     "data": {
      "text/plain": "\t\t\t\t\t\t\t\t\t\tChecking muted gold\r\n"
     },
     "execution_count": 1,
     "metadata": {}
    },
    {
     "output_type": "execute_result",
     "data": {
      "text/plain": "\t\t\t\t\t\t\t\t\t\tInner Amount:0\r\n"
     },
     "execution_count": 1,
     "metadata": {}
    },
    {
     "output_type": "execute_result",
     "data": {
      "text/plain": "\t\t\t\t\t\t\t\t\t\tTotal Amount:1\r\n"
     },
     "execution_count": 1,
     "metadata": {}
    },
    {
     "output_type": "execute_result",
     "data": {
      "text/plain": "\t\t\t\t\t\t\t\t\t\t(dotted maroon,1)\r\n"
     },
     "execution_count": 1,
     "metadata": {}
    },
    {
     "output_type": "execute_result",
     "data": {
      "text/plain": "\t\t\t\t\t\t\t\t\t\tChecking dotted maroon\r\n"
     },
     "execution_count": 1,
     "metadata": {}
    },
    {
     "output_type": "execute_result",
     "data": {
      "text/plain": "\t\t\t\t\t\t\t\t\t\tInner Amount:0\r\n"
     },
     "execution_count": 1,
     "metadata": {}
    },
    {
     "output_type": "execute_result",
     "data": {
      "text/plain": "\t\t\t\t\t\t\t\t\t\tTotal Amount:2\r\n"
     },
     "execution_count": 1,
     "metadata": {}
    },
    {
     "output_type": "execute_result",
     "data": {
      "text/plain": "\t\t\t\t\t\t\t\tInner Amount:2\r\n"
     },
     "execution_count": 1,
     "metadata": {}
    },
    {
     "output_type": "execute_result",
     "data": {
      "text/plain": "\t\t\t\t\t\t\t\tTotal Amount:58\r\n"
     },
     "execution_count": 1,
     "metadata": {}
    },
    {
     "output_type": "execute_result",
     "data": {
      "text/plain": "\t\t\t\t\t\tInner Amount:58\r\n"
     },
     "execution_count": 1,
     "metadata": {}
    },
    {
     "output_type": "execute_result",
     "data": {
      "text/plain": "\t\t\t\t\t\tTotal Amount:59\r\n"
     },
     "execution_count": 1,
     "metadata": {}
    },
    {
     "output_type": "execute_result",
     "data": {
      "text/plain": "\t\t\t\t\t\t(posh salmon,1)\r\n"
     },
     "execution_count": 1,
     "metadata": {}
    },
    {
     "output_type": "execute_result",
     "data": {
      "text/plain": "\t\t\t\t\t\tChecking posh salmon\r\n"
     },
     "execution_count": 1,
     "metadata": {}
    },
    {
     "output_type": "execute_result",
     "data": {
      "text/plain": "\t\t\t\t\t\tInner Amount:0\r\n"
     },
     "execution_count": 1,
     "metadata": {}
    },
    {
     "output_type": "execute_result",
     "data": {
      "text/plain": "\t\t\t\t\t\tTotal Amount:60\r\n"
     },
     "execution_count": 1,
     "metadata": {}
    },
    {
     "output_type": "execute_result",
     "data": {
      "text/plain": "\t\t\t\tInner Amount:60\r\n"
     },
     "execution_count": 1,
     "metadata": {}
    },
    {
     "output_type": "execute_result",
     "data": {
      "text/plain": "\t\t\t\tTotal Amount:317\r\n"
     },
     "execution_count": 1,
     "metadata": {}
    },
    {
     "output_type": "execute_result",
     "data": {
      "text/plain": "\t\t\t\t(mirrored chartreuse,1)\r\n"
     },
     "execution_count": 1,
     "metadata": {}
    },
    {
     "output_type": "execute_result",
     "data": {
      "text/plain": "\t\t\t\tChecking mirrored chartreuse\r\n"
     },
     "execution_count": 1,
     "metadata": {}
    },
    {
     "output_type": "execute_result",
     "data": {
      "text/plain": "\t\t\t\tInner Amount:0\r\n"
     },
     "execution_count": 1,
     "metadata": {}
    },
    {
     "output_type": "execute_result",
     "data": {
      "text/plain": "\t\t\t\tTotal Amount:318\r\n"
     },
     "execution_count": 1,
     "metadata": {}
    },
    {
     "output_type": "execute_result",
     "data": {
      "text/plain": "\t\tInner Amount:318\r\n"
     },
     "execution_count": 1,
     "metadata": {}
    },
    {
     "output_type": "execute_result",
     "data": {
      "text/plain": "\t\tTotal Amount:1595\r\n"
     },
     "execution_count": 1,
     "metadata": {}
    },
    {
     "output_type": "execute_result",
     "data": {
      "text/plain": "\t\t(wavy purple,2)\r\n"
     },
     "execution_count": 1,
     "metadata": {}
    },
    {
     "output_type": "execute_result",
     "data": {
      "text/plain": "\t\tChecking wavy purple\r\n"
     },
     "execution_count": 1,
     "metadata": {}
    },
    {
     "output_type": "execute_result",
     "data": {
      "text/plain": "\t\t\t\t(dim yellow,3)\r\n"
     },
     "execution_count": 1,
     "metadata": {}
    },
    {
     "output_type": "execute_result",
     "data": {
      "text/plain": "\t\t\t\tChecking dim yellow\r\n"
     },
     "execution_count": 1,
     "metadata": {}
    },
    {
     "output_type": "execute_result",
     "data": {
      "text/plain": "\t\t\t\t\t\t(dotted chartreuse,1)\r\n"
     },
     "execution_count": 1,
     "metadata": {}
    },
    {
     "output_type": "execute_result",
     "data": {
      "text/plain": "\t\t\t\t\t\tChecking dotted chartreuse\r\n"
     },
     "execution_count": 1,
     "metadata": {}
    },
    {
     "output_type": "execute_result",
     "data": {
      "text/plain": "\t\t\t\t\t\tInner Amount:0\r\n"
     },
     "execution_count": 1,
     "metadata": {}
    },
    {
     "output_type": "execute_result",
     "data": {
      "text/plain": "\t\t\t\t\t\tTotal Amount:1\r\n"
     },
     "execution_count": 1,
     "metadata": {}
    },
    {
     "output_type": "execute_result",
     "data": {
      "text/plain": "\t\t\t\tInner Amount:1\r\n"
     },
     "execution_count": 1,
     "metadata": {}
    },
    {
     "output_type": "execute_result",
     "data": {
      "text/plain": "\t\t\t\tTotal Amount:6\r\n"
     },
     "execution_count": 1,
     "metadata": {}
    },
    {
     "output_type": "execute_result",
     "data": {
      "text/plain": "\t\t\t\t(posh salmon,1)\r\n"
     },
     "execution_count": 1,
     "metadata": {}
    },
    {
     "output_type": "execute_result",
     "data": {
      "text/plain": "\t\t\t\tChecking posh salmon\r\n"
     },
     "execution_count": 1,
     "metadata": {}
    },
    {
     "output_type": "execute_result",
     "data": {
      "text/plain": "\t\t\t\tInner Amount:0\r\n"
     },
     "execution_count": 1,
     "metadata": {}
    },
    {
     "output_type": "execute_result",
     "data": {
      "text/plain": "\t\t\t\tTotal Amount:7\r\n"
     },
     "execution_count": 1,
     "metadata": {}
    },
    {
     "output_type": "execute_result",
     "data": {
      "text/plain": "\t\tInner Amount:7\r\n"
     },
     "execution_count": 1,
     "metadata": {}
    },
    {
     "output_type": "execute_result",
     "data": {
      "text/plain": "\t\tTotal Amount:1611\r\n"
     },
     "execution_count": 1,
     "metadata": {}
    },
    {
     "output_type": "execute_result",
     "data": {
      "text/plain": "\t\t(dark cyan,5)\r\n"
     },
     "execution_count": 1,
     "metadata": {}
    },
    {
     "output_type": "execute_result",
     "data": {
      "text/plain": "\t\tChecking dark cyan\r\n"
     },
     "execution_count": 1,
     "metadata": {}
    },
    {
     "output_type": "execute_result",
     "data": {
      "text/plain": "\t\t\t\t(dotted maroon,3)\r\n"
     },
     "execution_count": 1,
     "metadata": {}
    },
    {
     "output_type": "execute_result",
     "data": {
      "text/plain": "\t\t\t\tChecking dotted maroon\r\n"
     },
     "execution_count": 1,
     "metadata": {}
    },
    {
     "output_type": "execute_result",
     "data": {
      "text/plain": "\t\t\t\tInner Amount:0\r\n"
     },
     "execution_count": 1,
     "metadata": {}
    },
    {
     "output_type": "execute_result",
     "data": {
      "text/plain": "\t\t\t\tTotal Amount:3\r\n"
     },
     "execution_count": 1,
     "metadata": {}
    },
    {
     "output_type": "execute_result",
     "data": {
      "text/plain": "\t\t\t\t(vibrant red,2)\r\n"
     },
     "execution_count": 1,
     "metadata": {}
    },
    {
     "output_type": "execute_result",
     "data": {
      "text/plain": "\t\t\t\tChecking vibrant red\r\n"
     },
     "execution_count": 1,
     "metadata": {}
    },
    {
     "output_type": "execute_result",
     "data": {
      "text/plain": "\t\t\t\tInner Amount:0\r\n"
     },
     "execution_count": 1,
     "metadata": {}
    },
    {
     "output_type": "execute_result",
     "data": {
      "text/plain": "\t\t\t\tTotal Amount:5\r\n"
     },
     "execution_count": 1,
     "metadata": {}
    },
    {
     "output_type": "execute_result",
     "data": {
      "text/plain": "\t\tInner Amount:5\r\n"
     },
     "execution_count": 1,
     "metadata": {}
    },
    {
     "output_type": "execute_result",
     "data": {
      "text/plain": "\t\tTotal Amount:1641\r\n"
     },
     "execution_count": 1,
     "metadata": {}
    },
    {
     "output_type": "execute_result",
     "data": {
      "text/plain": "\t\t(dull chartreuse,5)\r\n"
     },
     "execution_count": 1,
     "metadata": {}
    },
    {
     "output_type": "execute_result",
     "data": {
      "text/plain": "\t\tChecking dull chartreuse\r\n"
     },
     "execution_count": 1,
     "metadata": {}
    },
    {
     "output_type": "execute_result",
     "data": {
      "text/plain": "\t\t\t\t(mirrored black,3)\r\n"
     },
     "execution_count": 1,
     "metadata": {}
    },
    {
     "output_type": "execute_result",
     "data": {
      "text/plain": "\t\t\t\tChecking mirrored black\r\n"
     },
     "execution_count": 1,
     "metadata": {}
    },
    {
     "output_type": "execute_result",
     "data": {
      "text/plain": "\t\t\t\tInner Amount:0\r\n"
     },
     "execution_count": 1,
     "metadata": {}
    },
    {
     "output_type": "execute_result",
     "data": {
      "text/plain": "\t\t\t\tTotal Amount:3\r\n"
     },
     "execution_count": 1,
     "metadata": {}
    },
    {
     "output_type": "execute_result",
     "data": {
      "text/plain": "\t\t\t\t(dotted salmon,3)\r\n"
     },
     "execution_count": 1,
     "metadata": {}
    },
    {
     "output_type": "execute_result",
     "data": {
      "text/plain": "\t\t\t\tChecking dotted salmon\r\n"
     },
     "execution_count": 1,
     "metadata": {}
    },
    {
     "output_type": "execute_result",
     "data": {
      "text/plain": "\t\t\t\t\t\t(dull red,5)\r\n"
     },
     "execution_count": 1,
     "metadata": {}
    },
    {
     "output_type": "execute_result",
     "data": {
      "text/plain": "\t\t\t\t\t\tChecking dull red\r\n"
     },
     "execution_count": 1,
     "metadata": {}
    },
    {
     "output_type": "execute_result",
     "data": {
      "text/plain": "\t\t\t\t\t\t\t\t(dotted maroon,2)\r\n"
     },
     "execution_count": 1,
     "metadata": {}
    },
    {
     "output_type": "execute_result",
     "data": {
      "text/plain": "\t\t\t\t\t\t\t\tChecking dotted maroon\r\n"
     },
     "execution_count": 1,
     "metadata": {}
    },
    {
     "output_type": "execute_result",
     "data": {
      "text/plain": "\t\t\t\t\t\t\t\tInner Amount:0\r\n"
     },
     "execution_count": 1,
     "metadata": {}
    },
    {
     "output_type": "execute_result",
     "data": {
      "text/plain": "\t\t\t\t\t\t\t\tTotal Amount:2\r\n"
     },
     "execution_count": 1,
     "metadata": {}
    },
    {
     "output_type": "execute_result",
     "data": {
      "text/plain": "\t\t\t\t\t\t\t\t(posh salmon,1)\r\n"
     },
     "execution_count": 1,
     "metadata": {}
    },
    {
     "output_type": "execute_result",
     "data": {
      "text/plain": "\t\t\t\t\t\t\t\tChecking posh salmon\r\n"
     },
     "execution_count": 1,
     "metadata": {}
    },
    {
     "output_type": "execute_result",
     "data": {
      "text/plain": "\t\t\t\t\t\t\t\tInner Amount:0\r\n"
     },
     "execution_count": 1,
     "metadata": {}
    },
    {
     "output_type": "execute_result",
     "data": {
      "text/plain": "\t\t\t\t\t\t\t\tTotal Amount:3\r\n"
     },
     "execution_count": 1,
     "metadata": {}
    },
    {
     "output_type": "execute_result",
     "data": {
      "text/plain": "\t\t\t\t\t\t\t\t(dotted chartreuse,3)\r\n"
     },
     "execution_count": 1,
     "metadata": {}
    },
    {
     "output_type": "execute_result",
     "data": {
      "text/plain": "\t\t\t\t\t\t\t\tChecking dotted chartreuse\r\n"
     },
     "execution_count": 1,
     "metadata": {}
    },
    {
     "output_type": "execute_result",
     "data": {
      "text/plain": "\t\t\t\t\t\t\t\tInner Amount:0\r\n"
     },
     "execution_count": 1,
     "metadata": {}
    },
    {
     "output_type": "execute_result",
     "data": {
      "text/plain": "\t\t\t\t\t\t\t\tTotal Amount:6\r\n"
     },
     "execution_count": 1,
     "metadata": {}
    },
    {
     "output_type": "execute_result",
     "data": {
      "text/plain": "\t\t\t\t\t\t\t\t(dim yellow,2)\r\n"
     },
     "execution_count": 1,
     "metadata": {}
    },
    {
     "output_type": "execute_result",
     "data": {
      "text/plain": "\t\t\t\t\t\t\t\tChecking dim yellow\r\n"
     },
     "execution_count": 1,
     "metadata": {}
    },
    {
     "output_type": "execute_result",
     "data": {
      "text/plain": "\t\t\t\t\t\t\t\t\t\t(dotted chartreuse,1)\r\n"
     },
     "execution_count": 1,
     "metadata": {}
    },
    {
     "output_type": "execute_result",
     "data": {
      "text/plain": "\t\t\t\t\t\t\t\t\t\tChecking dotted chartreuse\r\n"
     },
     "execution_count": 1,
     "metadata": {}
    },
    {
     "output_type": "execute_result",
     "data": {
      "text/plain": "\t\t\t\t\t\t\t\t\t\tInner Amount:0\r\n"
     },
     "execution_count": 1,
     "metadata": {}
    },
    {
     "output_type": "execute_result",
     "data": {
      "text/plain": "\t\t\t\t\t\t\t\t\t\tTotal Amount:1\r\n"
     },
     "execution_count": 1,
     "metadata": {}
    },
    {
     "output_type": "execute_result",
     "data": {
      "text/plain": "\t\t\t\t\t\t\t\tInner Amount:1\r\n"
     },
     "execution_count": 1,
     "metadata": {}
    },
    {
     "output_type": "execute_result",
     "data": {
      "text/plain": "\t\t\t\t\t\t\t\tTotal Amount:10\r\n"
     },
     "execution_count": 1,
     "metadata": {}
    },
    {
     "output_type": "execute_result",
     "data": {
      "text/plain": "\t\t\t\t\t\tInner Amount:10\r\n"
     },
     "execution_count": 1,
     "metadata": {}
    },
    {
     "output_type": "execute_result",
     "data": {
      "text/plain": "\t\t\t\t\t\tTotal Amount:55\r\n"
     },
     "execution_count": 1,
     "metadata": {}
    },
    {
     "output_type": "execute_result",
     "data": {
      "text/plain": "\t\t\t\t\t\t(striped salmon,2)\r\n"
     },
     "execution_count": 1,
     "metadata": {}
    },
    {
     "output_type": "execute_result",
     "data": {
      "text/plain": "\t\t\t\t\t\tChecking striped salmon\r\n"
     },
     "execution_count": 1,
     "metadata": {}
    },
    {
     "output_type": "execute_result",
     "data": {
      "text/plain": "\t\t\t\t\t\tInner Amount:0\r\n"
     },
     "execution_count": 1,
     "metadata": {}
    },
    {
     "output_type": "execute_result",
     "data": {
      "text/plain": "\t\t\t\t\t\tTotal Amount:57\r\n"
     },
     "execution_count": 1,
     "metadata": {}
    },
    {
     "output_type": "execute_result",
     "data": {
      "text/plain": "\t\t\t\t\t\t(dotted maroon,5)\r\n"
     },
     "execution_count": 1,
     "metadata": {}
    },
    {
     "output_type": "execute_result",
     "data": {
      "text/plain": "\t\t\t\t\t\tChecking dotted maroon\r\n"
     },
     "execution_count": 1,
     "metadata": {}
    },
    {
     "output_type": "execute_result",
     "data": {
      "text/plain": "\t\t\t\t\t\tInner Amount:0\r\n"
     },
     "execution_count": 1,
     "metadata": {}
    },
    {
     "output_type": "execute_result",
     "data": {
      "text/plain": "\t\t\t\t\t\tTotal Amount:62\r\n"
     },
     "execution_count": 1,
     "metadata": {}
    },
    {
     "output_type": "execute_result",
     "data": {
      "text/plain": "\t\t\t\t\t\t(shiny red,3)\r\n"
     },
     "execution_count": 1,
     "metadata": {}
    },
    {
     "output_type": "execute_result",
     "data": {
      "text/plain": "\t\t\t\t\t\tChecking shiny red\r\n"
     },
     "execution_count": 1,
     "metadata": {}
    },
    {
     "output_type": "execute_result",
     "data": {
      "text/plain": "\t\t\t\t\t\t\t\t(posh salmon,4)\r\n"
     },
     "execution_count": 1,
     "metadata": {}
    },
    {
     "output_type": "execute_result",
     "data": {
      "text/plain": "\t\t\t\t\t\t\t\tChecking posh salmon\r\n"
     },
     "execution_count": 1,
     "metadata": {}
    },
    {
     "output_type": "execute_result",
     "data": {
      "text/plain": "\t\t\t\t\t\t\t\tInner Amount:0\r\n"
     },
     "execution_count": 1,
     "metadata": {}
    },
    {
     "output_type": "execute_result",
     "data": {
      "text/plain": "\t\t\t\t\t\t\t\tTotal Amount:4\r\n"
     },
     "execution_count": 1,
     "metadata": {}
    },
    {
     "output_type": "execute_result",
     "data": {
      "text/plain": "\t\t\t\t\t\t\t\t(dotted chartreuse,1)\r\n"
     },
     "execution_count": 1,
     "metadata": {}
    },
    {
     "output_type": "execute_result",
     "data": {
      "text/plain": "\t\t\t\t\t\t\t\tChecking dotted chartreuse\r\n"
     },
     "execution_count": 1,
     "metadata": {}
    },
    {
     "output_type": "execute_result",
     "data": {
      "text/plain": "\t\t\t\t\t\t\t\tInner Amount:0\r\n"
     },
     "execution_count": 1,
     "metadata": {}
    },
    {
     "output_type": "execute_result",
     "data": {
      "text/plain": "\t\t\t\t\t\t\t\tTotal Amount:5\r\n"
     },
     "execution_count": 1,
     "metadata": {}
    },
    {
     "output_type": "execute_result",
     "data": {
      "text/plain": "\t\t\t\t\t\tInner Amount:5\r\n"
     },
     "execution_count": 1,
     "metadata": {}
    },
    {
     "output_type": "execute_result",
     "data": {
      "text/plain": "\t\t\t\t\t\tTotal Amount:80\r\n"
     },
     "execution_count": 1,
     "metadata": {}
    },
    {
     "output_type": "execute_result",
     "data": {
      "text/plain": "\t\t\t\tInner Amount:80\r\n"
     },
     "execution_count": 1,
     "metadata": {}
    },
    {
     "output_type": "execute_result",
     "data": {
      "text/plain": "\t\t\t\tTotal Amount:246\r\n"
     },
     "execution_count": 1,
     "metadata": {}
    },
    {
     "output_type": "execute_result",
     "data": {
      "text/plain": "\t\t\t\t(pale turquoise,5)\r\n"
     },
     "execution_count": 1,
     "metadata": {}
    },
    {
     "output_type": "execute_result",
     "data": {
      "text/plain": "\t\t\t\tChecking pale turquoise\r\n"
     },
     "execution_count": 1,
     "metadata": {}
    },
    {
     "output_type": "execute_result",
     "data": {
      "text/plain": "\t\t\t\t\t\t(vibrant red,3)\r\n"
     },
     "execution_count": 1,
     "metadata": {}
    },
    {
     "output_type": "execute_result",
     "data": {
      "text/plain": "\t\t\t\t\t\tChecking vibrant red\r\n"
     },
     "execution_count": 1,
     "metadata": {}
    },
    {
     "output_type": "execute_result",
     "data": {
      "text/plain": "\t\t\t\t\t\tInner Amount:0\r\n"
     },
     "execution_count": 1,
     "metadata": {}
    },
    {
     "output_type": "execute_result",
     "data": {
      "text/plain": "\t\t\t\t\t\tTotal Amount:3\r\n"
     },
     "execution_count": 1,
     "metadata": {}
    },
    {
     "output_type": "execute_result",
     "data": {
      "text/plain": "\t\t\t\tInner Amount:3\r\n"
     },
     "execution_count": 1,
     "metadata": {}
    },
    {
     "output_type": "execute_result",
     "data": {
      "text/plain": "\t\t\t\tTotal Amount:266\r\n"
     },
     "execution_count": 1,
     "metadata": {}
    },
    {
     "output_type": "execute_result",
     "data": {
      "text/plain": "\t\tInner Amount:266\r\n"
     },
     "execution_count": 1,
     "metadata": {}
    },
    {
     "output_type": "execute_result",
     "data": {
      "text/plain": "\t\tTotal Amount:2976\r\n"
     },
     "execution_count": 1,
     "metadata": {}
    },
    {
     "output_type": "execute_result",
     "data": {
      "text/plain": "2976\r\n"
     },
     "execution_count": 1,
     "metadata": {}
    }
   ]
  }
 ],
 "metadata": {
  "kernelspec": {
   "display_name": ".NET (C#)",
   "language": "C#",
   "name": ".net-csharp"
  },
  "language_info": {
   "file_extension": ".cs",
   "mimetype": "text/x-csharp",
   "name": "C#",
   "pygments_lexer": "csharp",
   "version": "8.0"
  }
 },
 "nbformat": 4,
 "nbformat_minor": 4
}