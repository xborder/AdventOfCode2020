{
 "cells": [
  {
   "cell_type": "code",
   "execution_count": 1,
   "metadata": {},
   "source": [
    "using System.IO;\n",
    "\n",
    "void printRules(Dictionary<string, Dictionary<string,int>> rules) {\n",
    "    foreach(var kv in rules) {\n",
    "        Console.WriteLine(kv.Key);\n",
    "        foreach(var x in kv.Value) {\n",
    "            Console.WriteLine($\"\\t\\t {x.Key}\\t{x.Value}\");\n",
    "        }\n",
    "    }\n",
    "}\n",
    "\n",
    "var rules = new Dictionary<string,Dictionary<string, int>>();\n",
    "\n",
    "using(var reader = new StreamReader(\"input\")) {\n",
    "    string line = null;\n",
    "    while((line = reader.ReadLine()) != null) {\n",
    "        var rule = line.Split(\" bags contain \");\n",
    "        var outerBag = rule[0];\n",
    "        var innerBags = rule[1];\n",
    "\n",
    "        rules.Add(outerBag, new Dictionary<string,int>());\n",
    "\n",
    "        foreach (var innerBagList in innerBags.Split(\", \")) {\n",
    "            if (innerBagList.Equals(\"no other bags.\")) {\n",
    "                continue;\n",
    "            };\n",
    "            var tokens = innerBagList.Split(\" \");\n",
    "            var bag = tokens[1] + \" \" + tokens[2];\n",
    "            var amount = Int32.Parse(tokens[0]);\n",
    "            \n",
    "            if (rules[outerBag].ContainsKey(bag)) {\n",
    "                rules[outerBag][bag] += amount;\n",
    "            } else {\n",
    "                rules[outerBag].Add(bag, amount);\n",
    "            }\n",
    "        }\n",
    "    }\n",
    "}\n",
    "\n",
    "//printRules(rules);\n",
    "\n",
    "var queue = new Queue<string>();\n",
    "var visited = new HashSet<string>();\n",
    "\n",
    "int findBag(string bag) {\n",
    "    int count = 0;\n",
    "    foreach (var outer in rules) {\n",
    "        if (outer.Value.Keys.Contains(bag) && !visited.Contains(outer.Key)) {\n",
    "            queue.Enqueue(outer.Key);\n",
    "            visited.Add(outer.Key);\n",
    "            count++;\n",
    "        }\n",
    "    }\n",
    "    return count;\n",
    "}\n",
    "\n",
    "var leastAmountBags = findBag(\"shiny gold\");\n",
    "while (queue.Count > 0) {\n",
    "    var bag = queue.Dequeue();\n",
    "    leastAmountBags += findBag(bag);\n",
    "}\n",
    "\n",
    "Console.WriteLine(leastAmountBags);"
   ],
   "outputs": [
    {
     "output_type": "execute_result",
     "data": {
      "text/plain": "246\r\n"
     },
     "execution_count": 1,
     "metadata": {}
    }
   ]
  },
  {
   "cell_type": "code",
   "execution_count": 1,
   "metadata": {},
   "source": [
    "using System.IO;\n",
    "\n",
    "var rules = new Dictionary<string,Dictionary<string, int>>();\n",
    "\n",
    "var totalBags = new Dictionary<string, int>();\n",
    "using(var reader = new StreamReader(\"input\")) {\n",
    "    string line = null;\n",
    "    while((line = reader.ReadLine()) != null) {\n",
    "        var rule = line.Split(\" bags contain \");\n",
    "        var outerBag = rule[0];\n",
    "        var innerBags = rule[1];\n",
    "\n",
    "        rules.Add(outerBag, new Dictionary<string,int>());\n",
    "        \n",
    "        foreach (var innerBagList in innerBags.Split(\", \")) {\n",
    "            if (innerBagList.Equals(\"no other bags.\")) {                \n",
    "                continue;\n",
    "            };\n",
    "            var tokens = innerBagList.Split(\" \");\n",
    "            var bag = tokens[1] + \" \" + tokens[2];\n",
    "            var amount = Int32.Parse(tokens[0]);\n",
    "            \n",
    "            if (rules[outerBag].ContainsKey(bag)) {\n",
    "                rules[outerBag][bag] += amount;\n",
    "            } else {\n",
    "                rules[outerBag].Add(bag, amount);\n",
    "            }\n",
    "        }\n",
    "        \n",
    "        totalBags.Add(outerBag, 0);\n",
    "    }\n",
    "}\n",
    "\n",
    "void printRules(Dictionary<string, Dictionary<string,int>> rules) {\n",
    "    foreach(var kv in rules) {\n",
    "        Console.WriteLine(kv.Key);\n",
    "        foreach(var x in kv.Value) {\n",
    "            Console.WriteLine($\"\\t\\t {x.Key}\\t{x.Value}\");\n",
    "        }\n",
    "    }\n",
    "}\n",
    "\n",
    "var visited = new Dictionary<string, int>();\n",
    "\n",
    "int test(string bag, int iteration) {\n",
    "    var amount = 0;\n",
    "    Console.WriteLine($\"{new String('\\t',iteration)}Checking {bag}\");\n",
    "    foreach(var innerBags in rules[bag]) {\n",
    "        //if(!visited.ContainsKey(innerBags.Key)) {\n",
    "            Console.WriteLine($\"{new String('\\t',iteration+1)}\\t({innerBags.Key},{innerBags.Value})\");\n",
    "            var innerAmount = test(innerBags.Key, iteration  + 2);\n",
    "            Console.WriteLine($\"{new String('\\t',iteration+1)}\\tInner Amount:{innerAmount}\");\n",
    "            amount += innerBags.Value + innerBags.Value * innerAmount;\n",
    "        //    visited.Add(innerBags.Key, innerBags.Value + innerBags.Value * innerAmount);\n",
    "            Console.WriteLine($\"{new String('\\t',iteration+1)}\\tTotal Amount:{amount}\");\n",
    "        //} else {\n",
    "        //    Console.WriteLine($\"{new String('\\t',iteration+1)}\\tCache {innerBags.Key},{visited[innerBags.Key]}\");\n",
    "        //    amount += innerBags.Value+visited[innerBags.Key];\n",
    "        //}\n",
    "    }\n",
    "    return amount;\n",
    "}\n",
    "\n",
    "var leastAmountBags = test(\"shiny gold\", 0);\n",
    "\n",
    "Console.WriteLine(leastAmountBags);"
   ],
   "outputs": [
    {
     "output_type": "execute_result",
     "data": {
      "text/plain": "Checking shiny gold\r\n"
     },
     "execution_count": 1,
     "metadata": {}
    },
    {
     "output_type": "execute_result",
     "data": {
      "text/plain": "\t\t(dark olive,1)\r\n"
     },
     "execution_count": 1,
     "metadata": {}
    },
    {
     "output_type": "execute_result",
     "data": {
      "text/plain": "\t\tChecking dark olive\r\n"
     },
     "execution_count": 1,
     "metadata": {}
    },
    {
     "output_type": "execute_result",
     "data": {
      "text/plain": "\t\t\t\t(faded blue,3)\r\n"
     },
     "execution_count": 1,
     "metadata": {}
    },
    {
     "output_type": "execute_result",
     "data": {
      "text/plain": "\t\t\t\tChecking faded blue\r\n"
     },
     "execution_count": 1,
     "metadata": {}
    },
    {
     "output_type": "execute_result",
     "data": {
      "text/plain": "\t\t\t\tInner Amount:0\r\n"
     },
     "execution_count": 1,
     "metadata": {}
    },
    {
     "output_type": "execute_result",
     "data": {
      "text/plain": "\t\t\t\tTotal Amount:3\r\n"
     },
     "execution_count": 1,
     "metadata": {}
    },
    {
     "output_type": "execute_result",
     "data": {
      "text/plain": "\t\t\t\t(dotted black,4)\r\n"
     },
     "execution_count": 1,
     "metadata": {}
    },
    {
     "output_type": "execute_result",
     "data": {
      "text/plain": "\t\t\t\tChecking dotted black\r\n"
     },
     "execution_count": 1,
     "metadata": {}
    },
    {
     "output_type": "execute_result",
     "data": {
      "text/plain": "\t\t\t\tInner Amount:0\r\n"
     },
     "execution_count": 1,
     "metadata": {}
    },
    {
     "output_type": "execute_result",
     "data": {
      "text/plain": "\t\t\t\tTotal Amount:7\r\n"
     },
     "execution_count": 1,
     "metadata": {}
    },
    {
     "output_type": "execute_result",
     "data": {
      "text/plain": "\t\tInner Amount:7\r\n"
     },
     "execution_count": 1,
     "metadata": {}
    },
    {
     "output_type": "execute_result",
     "data": {
      "text/plain": "\t\tTotal Amount:8\r\n"
     },
     "execution_count": 1,
     "metadata": {}
    },
    {
     "output_type": "execute_result",
     "data": {
      "text/plain": "\t\t(vibrant plum,2)\r\n"
     },
     "execution_count": 1,
     "metadata": {}
    },
    {
     "output_type": "execute_result",
     "data": {
      "text/plain": "\t\tChecking vibrant plum\r\n"
     },
     "execution_count": 1,
     "metadata": {}
    },
    {
     "output_type": "execute_result",
     "data": {
      "text/plain": "\t\t\t\t(faded blue,5)\r\n"
     },
     "execution_count": 1,
     "metadata": {}
    },
    {
     "output_type": "execute_result",
     "data": {
      "text/plain": "\t\t\t\tChecking faded blue\r\n"
     },
     "execution_count": 1,
     "metadata": {}
    },
    {
     "output_type": "execute_result",
     "data": {
      "text/plain": "\t\t\t\tInner Amount:0\r\n"
     },
     "execution_count": 1,
     "metadata": {}
    },
    {
     "output_type": "execute_result",
     "data": {
      "text/plain": "\t\t\t\tTotal Amount:5\r\n"
     },
     "execution_count": 1,
     "metadata": {}
    },
    {
     "output_type": "execute_result",
     "data": {
      "text/plain": "\t\t\t\t(dotted black,6)\r\n"
     },
     "execution_count": 1,
     "metadata": {}
    },
    {
     "output_type": "execute_result",
     "data": {
      "text/plain": "\t\t\t\tChecking dotted black\r\n"
     },
     "execution_count": 1,
     "metadata": {}
    },
    {
     "output_type": "execute_result",
     "data": {
      "text/plain": "\t\t\t\tInner Amount:0\r\n"
     },
     "execution_count": 1,
     "metadata": {}
    },
    {
     "output_type": "execute_result",
     "data": {
      "text/plain": "\t\t\t\tTotal Amount:11\r\n"
     },
     "execution_count": 1,
     "metadata": {}
    },
    {
     "output_type": "execute_result",
     "data": {
      "text/plain": "\t\tInner Amount:11\r\n"
     },
     "execution_count": 1,
     "metadata": {}
    },
    {
     "output_type": "execute_result",
     "data": {
      "text/plain": "\t\tTotal Amount:32\r\n"
     },
     "execution_count": 1,
     "metadata": {}
    },
    {
     "output_type": "execute_result",
     "data": {
      "text/plain": "32\r\n"
     },
     "execution_count": 1,
     "metadata": {}
    }
   ]
  }
 ],
 "metadata": {
  "kernelspec": {
   "display_name": ".NET (C#)",
   "language": "C#",
   "name": ".net-csharp"
  },
  "language_info": {
   "file_extension": ".cs",
   "mimetype": "text/x-csharp",
   "name": "C#",
   "pygments_lexer": "csharp",
   "version": "8.0"
  }
 },
 "nbformat": 4,
 "nbformat_minor": 4
}