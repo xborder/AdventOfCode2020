{
 "cells": [
  {
   "cell_type": "code",
   "execution_count": 1,
   "metadata": {},
   "source": [
    "using System.IO;\n",
    "\n",
    "string[] lines = File.ReadAllLines(\"input.txt\");\n",
    "decimal highestID = 0;\n",
    "\n",
    "foreach (var line in lines) {\n",
    "    var list = line.ToCharArray();\n",
    "    \n",
    "    decimal lowerBound = 0, upperBound = 127;\n",
    "    decimal leftBound = 0, rightBound = 7;\n",
    "\n",
    "    for (int i = 0; i < list.Length; i++) {\n",
    "        var columnsLeft = Math.Ceiling((rightBound - leftBound) / 2);\n",
    "        var rowsLeft = Math.Ceiling((upperBound - lowerBound) / 2);\n",
    "        if (list[i] == 'F') {\n",
    "            upperBound -= rowsLeft;\n",
    "        } else if (list[i] == 'B') {\n",
    "            lowerBound += rowsLeft;\n",
    "        } else if (list[i] == 'R') {\n",
    "            leftBound += columnsLeft;\n",
    "        } else if (list[i] == 'L') {\n",
    "            rightBound -= columnsLeft;\n",
    "        }\n",
    "    }\n",
    "    decimal id = lowerBound * 8 + rightBound;\n",
    "    \n",
    "    if (highestID < id) {\n",
    "        highestID = id;\n",
    "    }\n",
    "}\n",
    "Console.WriteLine(highestID);"
   ],
   "outputs": [
    {
     "output_type": "execute_result",
     "data": {
      "text/plain": "896\r\n"
     },
     "execution_count": 1,
     "metadata": {}
    }
   ]
  },
  {
   "cell_type": "code",
   "execution_count": 1,
   "metadata": {},
   "source": [
    "using System.IO;\n",
    "\n",
    "string[] lines = File.ReadAllLines(\"input.txt\");\n",
    "decimal highestID = 0;\n",
    "\n",
    "decimal[,] map = new decimal[128,8];\n",
    "\n",
    "foreach (var line in lines) {\n",
    "    var list = line.ToCharArray();\n",
    "    \n",
    "    decimal lowerBound = 0, upperBound = 127;\n",
    "    decimal leftBound = 0, rightBound = 7;\n",
    "\n",
    "    for (int i = 0; i < list.Length; i++) {\n",
    "        var columnsLeft = Math.Ceiling((rightBound - leftBound) / 2);\n",
    "        var rowsLeft = Math.Ceiling((upperBound - lowerBound) / 2);\n",
    "        if (list[i] == 'F') {\n",
    "            upperBound -= rowsLeft;\n",
    "        } else if (list[i] == 'B') {\n",
    "            lowerBound += rowsLeft;\n",
    "        } else if (list[i] == 'R') {\n",
    "            leftBound += columnsLeft;\n",
    "        } else if (list[i] == 'L') {\n",
    "            rightBound -= columnsLeft;\n",
    "        }\n",
    "    }\n",
    "\n",
    "    decimal id = lowerBound * 8 + rightBound;\n",
    "    map[(int)lowerBound,(int)rightBound] = id;\n",
    "    \n",
    "    if (highestID < id) {\n",
    "        highestID = id;\n",
    "    }\n",
    "}\n",
    "\n",
    "for (int i = 1; i < 127; i++) {\n",
    "    string r = \"\";\n",
    "    for (int j = 0; j < 8; j++) {\n",
    "        r += map[i,j] != 0 ? map[i,j]+\"\\t\\t\\t\" : \".\\t\\t\\t\";\n",
    "    }\n",
    "    Console.WriteLine(r);\n",
    "}"
   ],
   "outputs": [
    {
     "output_type": "execute_result",
     "data": {
      "text/plain": ".\t\t\t.\t\t\t.\t\t\t.\t\t\t.\t\t\t.\t\t\t.\t\t\t.\t\t\t\r\n"
     },
     "execution_count": 1,
     "metadata": {}
    },
    {
     "output_type": "execute_result",
     "data": {
      "text/plain": ".\t\t\t.\t\t\t.\t\t\t.\t\t\t.\t\t\t.\t\t\t.\t\t\t.\t\t\t\r\n"
     },
     "execution_count": 1,
     "metadata": {}
    },
    {
     "output_type": "execute_result",
     "data": {
      "text/plain": ".\t\t\t.\t\t\t.\t\t\t.\t\t\t.\t\t\t.\t\t\t.\t\t\t.\t\t\t\r\n"
     },
     "execution_count": 1,
     "metadata": {}
    },
    {
     "output_type": "execute_result",
     "data": {
      "text/plain": ".\t\t\t.\t\t\t.\t\t\t.\t\t\t.\t\t\t.\t\t\t.\t\t\t.\t\t\t\r\n"
     },
     "execution_count": 1,
     "metadata": {}
    },
    {
     "output_type": "execute_result",
     "data": {
      "text/plain": ".\t\t\t.\t\t\t.\t\t\t.\t\t\t.\t\t\t.\t\t\t.\t\t\t.\t\t\t\r\n"
     },
     "execution_count": 1,
     "metadata": {}
    },
    {
     "output_type": "execute_result",
     "data": {
      "text/plain": ".\t\t\t.\t\t\t.\t\t\t.\t\t\t.\t\t\t53\t\t\t54\t\t\t55\t\t\t\r\n"
     },
     "execution_count": 1,
     "metadata": {}
    },
    {
     "output_type": "execute_result",
     "data": {
      "text/plain": "56\t\t\t57\t\t\t58\t\t\t59\t\t\t60\t\t\t61\t\t\t62\t\t\t63\t\t\t\r\n"
     },
     "execution_count": 1,
     "metadata": {}
    },
    {
     "output_type": "execute_result",
     "data": {
      "text/plain": "64\t\t\t65\t\t\t66\t\t\t67\t\t\t68\t\t\t69\t\t\t70\t\t\t71\t\t\t\r\n"
     },
     "execution_count": 1,
     "metadata": {}
    },
    {
     "output_type": "execute_result",
     "data": {
      "text/plain": "72\t\t\t73\t\t\t74\t\t\t75\t\t\t76\t\t\t77\t\t\t78\t\t\t79\t\t\t\r\n"
     },
     "execution_count": 1,
     "metadata": {}
    },
    {
     "output_type": "execute_result",
     "data": {
      "text/plain": "80\t\t\t81\t\t\t82\t\t\t83\t\t\t84\t\t\t85\t\t\t86\t\t\t87\t\t\t\r\n"
     },
     "execution_count": 1,
     "metadata": {}
    },
    {
     "output_type": "execute_result",
     "data": {
      "text/plain": "88\t\t\t89\t\t\t90\t\t\t91\t\t\t92\t\t\t93\t\t\t94\t\t\t95\t\t\t\r\n"
     },
     "execution_count": 1,
     "metadata": {}
    },
    {
     "output_type": "execute_result",
     "data": {
      "text/plain": "96\t\t\t97\t\t\t98\t\t\t99\t\t\t100\t\t\t101\t\t\t102\t\t\t103\t\t\t\r\n"
     },
     "execution_count": 1,
     "metadata": {}
    },
    {
     "output_type": "execute_result",
     "data": {
      "text/plain": "104\t\t\t105\t\t\t106\t\t\t107\t\t\t108\t\t\t109\t\t\t110\t\t\t111\t\t\t\r\n"
     },
     "execution_count": 1,
     "metadata": {}
    },
    {
     "output_type": "execute_result",
     "data": {
      "text/plain": "112\t\t\t113\t\t\t114\t\t\t115\t\t\t116\t\t\t117\t\t\t118\t\t\t119\t\t\t\r\n"
     },
     "execution_count": 1,
     "metadata": {}
    },
    {
     "output_type": "execute_result",
     "data": {
      "text/plain": "120\t\t\t121\t\t\t122\t\t\t123\t\t\t124\t\t\t125\t\t\t126\t\t\t127\t\t\t\r\n"
     },
     "execution_count": 1,
     "metadata": {}
    },
    {
     "output_type": "execute_result",
     "data": {
      "text/plain": "128\t\t\t129\t\t\t130\t\t\t131\t\t\t132\t\t\t133\t\t\t134\t\t\t135\t\t\t\r\n"
     },
     "execution_count": 1,
     "metadata": {}
    },
    {
     "output_type": "execute_result",
     "data": {
      "text/plain": "136\t\t\t137\t\t\t138\t\t\t139\t\t\t140\t\t\t141\t\t\t142\t\t\t143\t\t\t\r\n"
     },
     "execution_count": 1,
     "metadata": {}
    },
    {
     "output_type": "execute_result",
     "data": {
      "text/plain": "144\t\t\t145\t\t\t146\t\t\t147\t\t\t148\t\t\t149\t\t\t150\t\t\t151\t\t\t\r\n"
     },
     "execution_count": 1,
     "metadata": {}
    },
    {
     "output_type": "execute_result",
     "data": {
      "text/plain": "152\t\t\t153\t\t\t154\t\t\t155\t\t\t156\t\t\t157\t\t\t158\t\t\t159\t\t\t\r\n"
     },
     "execution_count": 1,
     "metadata": {}
    },
    {
     "output_type": "execute_result",
     "data": {
      "text/plain": "160\t\t\t161\t\t\t162\t\t\t163\t\t\t164\t\t\t165\t\t\t166\t\t\t167\t\t\t\r\n"
     },
     "execution_count": 1,
     "metadata": {}
    },
    {
     "output_type": "execute_result",
     "data": {
      "text/plain": "168\t\t\t169\t\t\t170\t\t\t171\t\t\t172\t\t\t173\t\t\t174\t\t\t175\t\t\t\r\n"
     },
     "execution_count": 1,
     "metadata": {}
    },
    {
     "output_type": "execute_result",
     "data": {
      "text/plain": "176\t\t\t177\t\t\t178\t\t\t179\t\t\t180\t\t\t181\t\t\t182\t\t\t183\t\t\t\r\n"
     },
     "execution_count": 1,
     "metadata": {}
    },
    {
     "output_type": "execute_result",
     "data": {
      "text/plain": "184\t\t\t185\t\t\t186\t\t\t187\t\t\t188\t\t\t189\t\t\t190\t\t\t191\t\t\t\r\n"
     },
     "execution_count": 1,
     "metadata": {}
    },
    {
     "output_type": "execute_result",
     "data": {
      "text/plain": "192\t\t\t193\t\t\t194\t\t\t195\t\t\t196\t\t\t197\t\t\t198\t\t\t199\t\t\t\r\n"
     },
     "execution_count": 1,
     "metadata": {}
    },
    {
     "output_type": "execute_result",
     "data": {
      "text/plain": "200\t\t\t201\t\t\t202\t\t\t203\t\t\t204\t\t\t205\t\t\t206\t\t\t207\t\t\t\r\n"
     },
     "execution_count": 1,
     "metadata": {}
    },
    {
     "output_type": "execute_result",
     "data": {
      "text/plain": "208\t\t\t209\t\t\t210\t\t\t211\t\t\t212\t\t\t213\t\t\t214\t\t\t215\t\t\t\r\n"
     },
     "execution_count": 1,
     "metadata": {}
    },
    {
     "output_type": "execute_result",
     "data": {
      "text/plain": "216\t\t\t217\t\t\t218\t\t\t219\t\t\t220\t\t\t221\t\t\t222\t\t\t223\t\t\t\r\n"
     },
     "execution_count": 1,
     "metadata": {}
    },
    {
     "output_type": "execute_result",
     "data": {
      "text/plain": "224\t\t\t225\t\t\t226\t\t\t227\t\t\t228\t\t\t229\t\t\t230\t\t\t231\t\t\t\r\n"
     },
     "execution_count": 1,
     "metadata": {}
    },
    {
     "output_type": "execute_result",
     "data": {
      "text/plain": "232\t\t\t233\t\t\t234\t\t\t235\t\t\t236\t\t\t237\t\t\t238\t\t\t239\t\t\t\r\n"
     },
     "execution_count": 1,
     "metadata": {}
    },
    {
     "output_type": "execute_result",
     "data": {
      "text/plain": "240\t\t\t241\t\t\t242\t\t\t243\t\t\t244\t\t\t245\t\t\t246\t\t\t247\t\t\t\r\n"
     },
     "execution_count": 1,
     "metadata": {}
    },
    {
     "output_type": "execute_result",
     "data": {
      "text/plain": "248\t\t\t249\t\t\t250\t\t\t251\t\t\t252\t\t\t253\t\t\t254\t\t\t255\t\t\t\r\n"
     },
     "execution_count": 1,
     "metadata": {}
    },
    {
     "output_type": "execute_result",
     "data": {
      "text/plain": "256\t\t\t257\t\t\t258\t\t\t259\t\t\t260\t\t\t261\t\t\t262\t\t\t263\t\t\t\r\n"
     },
     "execution_count": 1,
     "metadata": {}
    },
    {
     "output_type": "execute_result",
     "data": {
      "text/plain": "264\t\t\t265\t\t\t266\t\t\t267\t\t\t268\t\t\t269\t\t\t270\t\t\t271\t\t\t\r\n"
     },
     "execution_count": 1,
     "metadata": {}
    },
    {
     "output_type": "execute_result",
     "data": {
      "text/plain": "272\t\t\t273\t\t\t274\t\t\t275\t\t\t276\t\t\t277\t\t\t278\t\t\t279\t\t\t\r\n"
     },
     "execution_count": 1,
     "metadata": {}
    },
    {
     "output_type": "execute_result",
     "data": {
      "text/plain": "280\t\t\t281\t\t\t282\t\t\t283\t\t\t284\t\t\t285\t\t\t286\t\t\t287\t\t\t\r\n"
     },
     "execution_count": 1,
     "metadata": {}
    },
    {
     "output_type": "execute_result",
     "data": {
      "text/plain": "288\t\t\t289\t\t\t290\t\t\t291\t\t\t292\t\t\t293\t\t\t294\t\t\t295\t\t\t\r\n"
     },
     "execution_count": 1,
     "metadata": {}
    },
    {
     "output_type": "execute_result",
     "data": {
      "text/plain": "296\t\t\t297\t\t\t298\t\t\t299\t\t\t300\t\t\t301\t\t\t302\t\t\t303\t\t\t\r\n"
     },
     "execution_count": 1,
     "metadata": {}
    },
    {
     "output_type": "execute_result",
     "data": {
      "text/plain": "304\t\t\t305\t\t\t306\t\t\t307\t\t\t308\t\t\t309\t\t\t310\t\t\t311\t\t\t\r\n"
     },
     "execution_count": 1,
     "metadata": {}
    },
    {
     "output_type": "execute_result",
     "data": {
      "text/plain": "312\t\t\t313\t\t\t314\t\t\t315\t\t\t316\t\t\t317\t\t\t318\t\t\t319\t\t\t\r\n"
     },
     "execution_count": 1,
     "metadata": {}
    },
    {
     "output_type": "execute_result",
     "data": {
      "text/plain": "320\t\t\t321\t\t\t322\t\t\t323\t\t\t324\t\t\t325\t\t\t326\t\t\t327\t\t\t\r\n"
     },
     "execution_count": 1,
     "metadata": {}
    },
    {
     "output_type": "execute_result",
     "data": {
      "text/plain": "328\t\t\t329\t\t\t330\t\t\t331\t\t\t332\t\t\t333\t\t\t334\t\t\t335\t\t\t\r\n"
     },
     "execution_count": 1,
     "metadata": {}
    },
    {
     "output_type": "execute_result",
     "data": {
      "text/plain": "336\t\t\t337\t\t\t338\t\t\t339\t\t\t340\t\t\t341\t\t\t342\t\t\t343\t\t\t\r\n"
     },
     "execution_count": 1,
     "metadata": {}
    },
    {
     "output_type": "execute_result",
     "data": {
      "text/plain": "344\t\t\t345\t\t\t346\t\t\t347\t\t\t348\t\t\t349\t\t\t350\t\t\t351\t\t\t\r\n"
     },
     "execution_count": 1,
     "metadata": {}
    },
    {
     "output_type": "execute_result",
     "data": {
      "text/plain": "352\t\t\t353\t\t\t354\t\t\t355\t\t\t356\t\t\t357\t\t\t358\t\t\t359\t\t\t\r\n"
     },
     "execution_count": 1,
     "metadata": {}
    },
    {
     "output_type": "execute_result",
     "data": {
      "text/plain": "360\t\t\t361\t\t\t362\t\t\t363\t\t\t364\t\t\t365\t\t\t366\t\t\t367\t\t\t\r\n"
     },
     "execution_count": 1,
     "metadata": {}
    },
    {
     "output_type": "execute_result",
     "data": {
      "text/plain": "368\t\t\t369\t\t\t370\t\t\t371\t\t\t372\t\t\t373\t\t\t374\t\t\t375\t\t\t\r\n"
     },
     "execution_count": 1,
     "metadata": {}
    },
    {
     "output_type": "execute_result",
     "data": {
      "text/plain": "376\t\t\t377\t\t\t378\t\t\t379\t\t\t380\t\t\t381\t\t\t382\t\t\t383\t\t\t\r\n"
     },
     "execution_count": 1,
     "metadata": {}
    },
    {
     "output_type": "execute_result",
     "data": {
      "text/plain": "384\t\t\t385\t\t\t386\t\t\t387\t\t\t388\t\t\t389\t\t\t390\t\t\t391\t\t\t\r\n"
     },
     "execution_count": 1,
     "metadata": {}
    },
    {
     "output_type": "execute_result",
     "data": {
      "text/plain": "392\t\t\t393\t\t\t394\t\t\t395\t\t\t396\t\t\t397\t\t\t398\t\t\t399\t\t\t\r\n"
     },
     "execution_count": 1,
     "metadata": {}
    },
    {
     "output_type": "execute_result",
     "data": {
      "text/plain": "400\t\t\t401\t\t\t402\t\t\t403\t\t\t404\t\t\t405\t\t\t406\t\t\t407\t\t\t\r\n"
     },
     "execution_count": 1,
     "metadata": {}
    },
    {
     "output_type": "execute_result",
     "data": {
      "text/plain": "408\t\t\t409\t\t\t410\t\t\t411\t\t\t412\t\t\t413\t\t\t414\t\t\t415\t\t\t\r\n"
     },
     "execution_count": 1,
     "metadata": {}
    },
    {
     "output_type": "execute_result",
     "data": {
      "text/plain": "416\t\t\t417\t\t\t418\t\t\t419\t\t\t420\t\t\t421\t\t\t422\t\t\t423\t\t\t\r\n"
     },
     "execution_count": 1,
     "metadata": {}
    },
    {
     "output_type": "execute_result",
     "data": {
      "text/plain": "424\t\t\t425\t\t\t426\t\t\t427\t\t\t428\t\t\t429\t\t\t430\t\t\t431\t\t\t\r\n"
     },
     "execution_count": 1,
     "metadata": {}
    },
    {
     "output_type": "execute_result",
     "data": {
      "text/plain": "432\t\t\t433\t\t\t434\t\t\t435\t\t\t436\t\t\t437\t\t\t438\t\t\t439\t\t\t\r\n"
     },
     "execution_count": 1,
     "metadata": {}
    },
    {
     "output_type": "execute_result",
     "data": {
      "text/plain": "440\t\t\t441\t\t\t442\t\t\t443\t\t\t444\t\t\t445\t\t\t446\t\t\t447\t\t\t\r\n"
     },
     "execution_count": 1,
     "metadata": {}
    },
    {
     "output_type": "execute_result",
     "data": {
      "text/plain": "448\t\t\t449\t\t\t450\t\t\t451\t\t\t452\t\t\t453\t\t\t454\t\t\t455\t\t\t\r\n"
     },
     "execution_count": 1,
     "metadata": {}
    },
    {
     "output_type": "execute_result",
     "data": {
      "text/plain": "456\t\t\t457\t\t\t458\t\t\t459\t\t\t460\t\t\t461\t\t\t462\t\t\t463\t\t\t\r\n"
     },
     "execution_count": 1,
     "metadata": {}
    },
    {
     "output_type": "execute_result",
     "data": {
      "text/plain": "464\t\t\t465\t\t\t466\t\t\t467\t\t\t468\t\t\t469\t\t\t470\t\t\t471\t\t\t\r\n"
     },
     "execution_count": 1,
     "metadata": {}
    },
    {
     "output_type": "execute_result",
     "data": {
      "text/plain": "472\t\t\t473\t\t\t474\t\t\t475\t\t\t476\t\t\t477\t\t\t478\t\t\t479\t\t\t\r\n"
     },
     "execution_count": 1,
     "metadata": {}
    },
    {
     "output_type": "execute_result",
     "data": {
      "text/plain": "480\t\t\t481\t\t\t482\t\t\t483\t\t\t484\t\t\t485\t\t\t486\t\t\t487\t\t\t\r\n"
     },
     "execution_count": 1,
     "metadata": {}
    },
    {
     "output_type": "execute_result",
     "data": {
      "text/plain": "488\t\t\t489\t\t\t490\t\t\t491\t\t\t492\t\t\t493\t\t\t494\t\t\t495\t\t\t\r\n"
     },
     "execution_count": 1,
     "metadata": {}
    },
    {
     "output_type": "execute_result",
     "data": {
      "text/plain": "496\t\t\t497\t\t\t498\t\t\t499\t\t\t500\t\t\t501\t\t\t502\t\t\t503\t\t\t\r\n"
     },
     "execution_count": 1,
     "metadata": {}
    },
    {
     "output_type": "execute_result",
     "data": {
      "text/plain": "504\t\t\t505\t\t\t506\t\t\t507\t\t\t508\t\t\t509\t\t\t510\t\t\t511\t\t\t\r\n"
     },
     "execution_count": 1,
     "metadata": {}
    },
    {
     "output_type": "execute_result",
     "data": {
      "text/plain": "512\t\t\t513\t\t\t514\t\t\t515\t\t\t516\t\t\t517\t\t\t518\t\t\t519\t\t\t\r\n"
     },
     "execution_count": 1,
     "metadata": {}
    },
    {
     "output_type": "execute_result",
     "data": {
      "text/plain": "520\t\t\t521\t\t\t522\t\t\t523\t\t\t524\t\t\t525\t\t\t526\t\t\t527\t\t\t\r\n"
     },
     "execution_count": 1,
     "metadata": {}
    },
    {
     "output_type": "execute_result",
     "data": {
      "text/plain": "528\t\t\t529\t\t\t530\t\t\t531\t\t\t532\t\t\t533\t\t\t534\t\t\t535\t\t\t\r\n"
     },
     "execution_count": 1,
     "metadata": {}
    },
    {
     "output_type": "execute_result",
     "data": {
      "text/plain": "536\t\t\t537\t\t\t538\t\t\t539\t\t\t540\t\t\t541\t\t\t542\t\t\t543\t\t\t\r\n"
     },
     "execution_count": 1,
     "metadata": {}
    },
    {
     "output_type": "execute_result",
     "data": {
      "text/plain": "544\t\t\t545\t\t\t546\t\t\t547\t\t\t548\t\t\t549\t\t\t550\t\t\t551\t\t\t\r\n"
     },
     "execution_count": 1,
     "metadata": {}
    },
    {
     "output_type": "execute_result",
     "data": {
      "text/plain": "552\t\t\t553\t\t\t554\t\t\t555\t\t\t556\t\t\t557\t\t\t558\t\t\t559\t\t\t\r\n"
     },
     "execution_count": 1,
     "metadata": {}
    },
    {
     "output_type": "execute_result",
     "data": {
      "text/plain": "560\t\t\t561\t\t\t562\t\t\t563\t\t\t564\t\t\t565\t\t\t566\t\t\t567\t\t\t\r\n"
     },
     "execution_count": 1,
     "metadata": {}
    },
    {
     "output_type": "execute_result",
     "data": {
      "text/plain": "568\t\t\t569\t\t\t570\t\t\t571\t\t\t572\t\t\t573\t\t\t574\t\t\t575\t\t\t\r\n"
     },
     "execution_count": 1,
     "metadata": {}
    },
    {
     "output_type": "execute_result",
     "data": {
      "text/plain": "576\t\t\t577\t\t\t578\t\t\t579\t\t\t580\t\t\t581\t\t\t582\t\t\t583\t\t\t\r\n"
     },
     "execution_count": 1,
     "metadata": {}
    },
    {
     "output_type": "execute_result",
     "data": {
      "text/plain": "584\t\t\t585\t\t\t586\t\t\t587\t\t\t588\t\t\t589\t\t\t590\t\t\t591\t\t\t\r\n"
     },
     "execution_count": 1,
     "metadata": {}
    },
    {
     "output_type": "execute_result",
     "data": {
      "text/plain": "592\t\t\t593\t\t\t594\t\t\t595\t\t\t596\t\t\t597\t\t\t598\t\t\t599\t\t\t\r\n"
     },
     "execution_count": 1,
     "metadata": {}
    },
    {
     "output_type": "execute_result",
     "data": {
      "text/plain": "600\t\t\t601\t\t\t602\t\t\t603\t\t\t604\t\t\t605\t\t\t606\t\t\t607\t\t\t\r\n"
     },
     "execution_count": 1,
     "metadata": {}
    },
    {
     "output_type": "execute_result",
     "data": {
      "text/plain": "608\t\t\t609\t\t\t610\t\t\t611\t\t\t612\t\t\t613\t\t\t614\t\t\t615\t\t\t\r\n"
     },
     "execution_count": 1,
     "metadata": {}
    },
    {
     "output_type": "execute_result",
     "data": {
      "text/plain": "616\t\t\t617\t\t\t618\t\t\t619\t\t\t620\t\t\t621\t\t\t622\t\t\t623\t\t\t\r\n"
     },
     "execution_count": 1,
     "metadata": {}
    },
    {
     "output_type": "execute_result",
     "data": {
      "text/plain": "624\t\t\t625\t\t\t626\t\t\t627\t\t\t628\t\t\t629\t\t\t630\t\t\t631\t\t\t\r\n"
     },
     "execution_count": 1,
     "metadata": {}
    },
    {
     "output_type": "execute_result",
     "data": {
      "text/plain": "632\t\t\t633\t\t\t634\t\t\t635\t\t\t636\t\t\t637\t\t\t638\t\t\t639\t\t\t\r\n"
     },
     "execution_count": 1,
     "metadata": {}
    },
    {
     "output_type": "execute_result",
     "data": {
      "text/plain": "640\t\t\t641\t\t\t642\t\t\t643\t\t\t644\t\t\t645\t\t\t646\t\t\t647\t\t\t\r\n"
     },
     "execution_count": 1,
     "metadata": {}
    },
    {
     "output_type": "execute_result",
     "data": {
      "text/plain": "648\t\t\t649\t\t\t650\t\t\t651\t\t\t652\t\t\t653\t\t\t654\t\t\t655\t\t\t\r\n"
     },
     "execution_count": 1,
     "metadata": {}
    },
    {
     "output_type": "execute_result",
     "data": {
      "text/plain": "656\t\t\t657\t\t\t658\t\t\t.\t\t\t660\t\t\t661\t\t\t662\t\t\t663\t\t\t\r\n"
     },
     "execution_count": 1,
     "metadata": {}
    },
    {
     "output_type": "execute_result",
     "data": {
      "text/plain": "664\t\t\t665\t\t\t666\t\t\t667\t\t\t668\t\t\t669\t\t\t670\t\t\t671\t\t\t\r\n"
     },
     "execution_count": 1,
     "metadata": {}
    },
    {
     "output_type": "execute_result",
     "data": {
      "text/plain": "672\t\t\t673\t\t\t674\t\t\t675\t\t\t676\t\t\t677\t\t\t678\t\t\t679\t\t\t\r\n"
     },
     "execution_count": 1,
     "metadata": {}
    },
    {
     "output_type": "execute_result",
     "data": {
      "text/plain": "680\t\t\t681\t\t\t682\t\t\t683\t\t\t684\t\t\t685\t\t\t686\t\t\t687\t\t\t\r\n"
     },
     "execution_count": 1,
     "metadata": {}
    },
    {
     "output_type": "execute_result",
     "data": {
      "text/plain": "688\t\t\t689\t\t\t690\t\t\t691\t\t\t692\t\t\t693\t\t\t694\t\t\t695\t\t\t\r\n"
     },
     "execution_count": 1,
     "metadata": {}
    },
    {
     "output_type": "execute_result",
     "data": {
      "text/plain": "696\t\t\t697\t\t\t698\t\t\t699\t\t\t700\t\t\t701\t\t\t702\t\t\t703\t\t\t\r\n"
     },
     "execution_count": 1,
     "metadata": {}
    },
    {
     "output_type": "execute_result",
     "data": {
      "text/plain": "704\t\t\t705\t\t\t706\t\t\t707\t\t\t708\t\t\t709\t\t\t710\t\t\t711\t\t\t\r\n"
     },
     "execution_count": 1,
     "metadata": {}
    },
    {
     "output_type": "execute_result",
     "data": {
      "text/plain": "712\t\t\t713\t\t\t714\t\t\t715\t\t\t716\t\t\t717\t\t\t718\t\t\t719\t\t\t\r\n"
     },
     "execution_count": 1,
     "metadata": {}
    },
    {
     "output_type": "execute_result",
     "data": {
      "text/plain": "720\t\t\t721\t\t\t722\t\t\t723\t\t\t724\t\t\t725\t\t\t726\t\t\t727\t\t\t\r\n"
     },
     "execution_count": 1,
     "metadata": {}
    },
    {
     "output_type": "execute_result",
     "data": {
      "text/plain": "728\t\t\t729\t\t\t730\t\t\t731\t\t\t732\t\t\t733\t\t\t734\t\t\t735\t\t\t\r\n"
     },
     "execution_count": 1,
     "metadata": {}
    },
    {
     "output_type": "execute_result",
     "data": {
      "text/plain": "736\t\t\t737\t\t\t738\t\t\t739\t\t\t740\t\t\t741\t\t\t742\t\t\t743\t\t\t\r\n"
     },
     "execution_count": 1,
     "metadata": {}
    },
    {
     "output_type": "execute_result",
     "data": {
      "text/plain": "744\t\t\t745\t\t\t746\t\t\t747\t\t\t748\t\t\t749\t\t\t750\t\t\t751\t\t\t\r\n"
     },
     "execution_count": 1,
     "metadata": {}
    },
    {
     "output_type": "execute_result",
     "data": {
      "text/plain": "752\t\t\t753\t\t\t754\t\t\t755\t\t\t756\t\t\t757\t\t\t758\t\t\t759\t\t\t\r\n"
     },
     "execution_count": 1,
     "metadata": {}
    },
    {
     "output_type": "execute_result",
     "data": {
      "text/plain": "760\t\t\t761\t\t\t762\t\t\t763\t\t\t764\t\t\t765\t\t\t766\t\t\t767\t\t\t\r\n"
     },
     "execution_count": 1,
     "metadata": {}
    },
    {
     "output_type": "execute_result",
     "data": {
      "text/plain": "768\t\t\t769\t\t\t770\t\t\t771\t\t\t772\t\t\t773\t\t\t774\t\t\t775\t\t\t\r\n"
     },
     "execution_count": 1,
     "metadata": {}
    },
    {
     "output_type": "execute_result",
     "data": {
      "text/plain": "776\t\t\t777\t\t\t778\t\t\t779\t\t\t780\t\t\t781\t\t\t782\t\t\t783\t\t\t\r\n"
     },
     "execution_count": 1,
     "metadata": {}
    },
    {
     "output_type": "execute_result",
     "data": {
      "text/plain": "784\t\t\t785\t\t\t786\t\t\t787\t\t\t788\t\t\t789\t\t\t790\t\t\t791\t\t\t\r\n"
     },
     "execution_count": 1,
     "metadata": {}
    },
    {
     "output_type": "execute_result",
     "data": {
      "text/plain": "792\t\t\t793\t\t\t794\t\t\t795\t\t\t796\t\t\t797\t\t\t798\t\t\t799\t\t\t\r\n"
     },
     "execution_count": 1,
     "metadata": {}
    },
    {
     "output_type": "execute_result",
     "data": {
      "text/plain": "800\t\t\t801\t\t\t802\t\t\t803\t\t\t804\t\t\t805\t\t\t806\t\t\t807\t\t\t\r\n"
     },
     "execution_count": 1,
     "metadata": {}
    },
    {
     "output_type": "execute_result",
     "data": {
      "text/plain": "808\t\t\t809\t\t\t810\t\t\t811\t\t\t812\t\t\t813\t\t\t814\t\t\t815\t\t\t\r\n"
     },
     "execution_count": 1,
     "metadata": {}
    },
    {
     "output_type": "execute_result",
     "data": {
      "text/plain": "816\t\t\t817\t\t\t818\t\t\t819\t\t\t820\t\t\t821\t\t\t822\t\t\t823\t\t\t\r\n"
     },
     "execution_count": 1,
     "metadata": {}
    },
    {
     "output_type": "execute_result",
     "data": {
      "text/plain": "824\t\t\t825\t\t\t826\t\t\t827\t\t\t828\t\t\t829\t\t\t830\t\t\t831\t\t\t\r\n"
     },
     "execution_count": 1,
     "metadata": {}
    },
    {
     "output_type": "execute_result",
     "data": {
      "text/plain": "832\t\t\t833\t\t\t834\t\t\t835\t\t\t836\t\t\t837\t\t\t838\t\t\t839\t\t\t\r\n"
     },
     "execution_count": 1,
     "metadata": {}
    },
    {
     "output_type": "execute_result",
     "data": {
      "text/plain": "840\t\t\t841\t\t\t842\t\t\t843\t\t\t844\t\t\t845\t\t\t846\t\t\t847\t\t\t\r\n"
     },
     "execution_count": 1,
     "metadata": {}
    },
    {
     "output_type": "execute_result",
     "data": {
      "text/plain": "848\t\t\t849\t\t\t850\t\t\t851\t\t\t852\t\t\t853\t\t\t854\t\t\t855\t\t\t\r\n"
     },
     "execution_count": 1,
     "metadata": {}
    },
    {
     "output_type": "execute_result",
     "data": {
      "text/plain": "856\t\t\t857\t\t\t858\t\t\t859\t\t\t860\t\t\t861\t\t\t862\t\t\t863\t\t\t\r\n"
     },
     "execution_count": 1,
     "metadata": {}
    },
    {
     "output_type": "execute_result",
     "data": {
      "text/plain": "864\t\t\t865\t\t\t866\t\t\t867\t\t\t868\t\t\t869\t\t\t870\t\t\t871\t\t\t\r\n"
     },
     "execution_count": 1,
     "metadata": {}
    },
    {
     "output_type": "execute_result",
     "data": {
      "text/plain": "872\t\t\t873\t\t\t874\t\t\t875\t\t\t876\t\t\t877\t\t\t878\t\t\t879\t\t\t\r\n"
     },
     "execution_count": 1,
     "metadata": {}
    },
    {
     "output_type": "execute_result",
     "data": {
      "text/plain": "880\t\t\t881\t\t\t882\t\t\t883\t\t\t884\t\t\t885\t\t\t886\t\t\t887\t\t\t\r\n"
     },
     "execution_count": 1,
     "metadata": {}
    },
    {
     "output_type": "execute_result",
     "data": {
      "text/plain": "888\t\t\t889\t\t\t890\t\t\t891\t\t\t892\t\t\t893\t\t\t894\t\t\t895\t\t\t\r\n"
     },
     "execution_count": 1,
     "metadata": {}
    },
    {
     "output_type": "execute_result",
     "data": {
      "text/plain": "896\t\t\t.\t\t\t.\t\t\t.\t\t\t.\t\t\t.\t\t\t.\t\t\t.\t\t\t\r\n"
     },
     "execution_count": 1,
     "metadata": {}
    },
    {
     "output_type": "execute_result",
     "data": {
      "text/plain": ".\t\t\t.\t\t\t.\t\t\t.\t\t\t.\t\t\t.\t\t\t.\t\t\t.\t\t\t\r\n"
     },
     "execution_count": 1,
     "metadata": {}
    },
    {
     "output_type": "execute_result",
     "data": {
      "text/plain": ".\t\t\t.\t\t\t.\t\t\t.\t\t\t.\t\t\t.\t\t\t.\t\t\t.\t\t\t\r\n"
     },
     "execution_count": 1,
     "metadata": {}
    },
    {
     "output_type": "execute_result",
     "data": {
      "text/plain": ".\t\t\t.\t\t\t.\t\t\t.\t\t\t.\t\t\t.\t\t\t.\t\t\t.\t\t\t\r\n"
     },
     "execution_count": 1,
     "metadata": {}
    },
    {
     "output_type": "execute_result",
     "data": {
      "text/plain": ".\t\t\t.\t\t\t.\t\t\t.\t\t\t.\t\t\t.\t\t\t.\t\t\t.\t\t\t\r\n"
     },
     "execution_count": 1,
     "metadata": {}
    },
    {
     "output_type": "execute_result",
     "data": {
      "text/plain": ".\t\t\t.\t\t\t.\t\t\t.\t\t\t.\t\t\t.\t\t\t.\t\t\t.\t\t\t\r\n"
     },
     "execution_count": 1,
     "metadata": {}
    },
    {
     "output_type": "execute_result",
     "data": {
      "text/plain": ".\t\t\t.\t\t\t.\t\t\t.\t\t\t.\t\t\t.\t\t\t.\t\t\t.\t\t\t\r\n"
     },
     "execution_count": 1,
     "metadata": {}
    },
    {
     "output_type": "execute_result",
     "data": {
      "text/plain": ".\t\t\t.\t\t\t.\t\t\t.\t\t\t.\t\t\t.\t\t\t.\t\t\t.\t\t\t\r\n"
     },
     "execution_count": 1,
     "metadata": {}
    },
    {
     "output_type": "execute_result",
     "data": {
      "text/plain": ".\t\t\t.\t\t\t.\t\t\t.\t\t\t.\t\t\t.\t\t\t.\t\t\t.\t\t\t\r\n"
     },
     "execution_count": 1,
     "metadata": {}
    },
    {
     "output_type": "execute_result",
     "data": {
      "text/plain": ".\t\t\t.\t\t\t.\t\t\t.\t\t\t.\t\t\t.\t\t\t.\t\t\t.\t\t\t\r\n"
     },
     "execution_count": 1,
     "metadata": {}
    },
    {
     "output_type": "execute_result",
     "data": {
      "text/plain": ".\t\t\t.\t\t\t.\t\t\t.\t\t\t.\t\t\t.\t\t\t.\t\t\t.\t\t\t\r\n"
     },
     "execution_count": 1,
     "metadata": {}
    },
    {
     "output_type": "execute_result",
     "data": {
      "text/plain": ".\t\t\t.\t\t\t.\t\t\t.\t\t\t.\t\t\t.\t\t\t.\t\t\t.\t\t\t\r\n"
     },
     "execution_count": 1,
     "metadata": {}
    },
    {
     "output_type": "execute_result",
     "data": {
      "text/plain": ".\t\t\t.\t\t\t.\t\t\t.\t\t\t.\t\t\t.\t\t\t.\t\t\t.\t\t\t\r\n"
     },
     "execution_count": 1,
     "metadata": {}
    },
    {
     "output_type": "execute_result",
     "data": {
      "text/plain": ".\t\t\t.\t\t\t.\t\t\t.\t\t\t.\t\t\t.\t\t\t.\t\t\t.\t\t\t\r\n"
     },
     "execution_count": 1,
     "metadata": {}
    },
    {
     "output_type": "execute_result",
     "data": {
      "text/plain": ".\t\t\t.\t\t\t.\t\t\t.\t\t\t.\t\t\t.\t\t\t.\t\t\t.\t\t\t\r\n"
     },
     "execution_count": 1,
     "metadata": {}
    },
    {
     "output_type": "execute_result",
     "data": {
      "text/plain": "896\r\n"
     },
     "execution_count": 1,
     "metadata": {}
    }
   ]
  }
 ],
 "metadata": {
  "kernelspec": {
   "display_name": ".NET (C#)",
   "language": "C#",
   "name": ".net-csharp"
  },
  "language_info": {
   "file_extension": ".cs",
   "mimetype": "text/x-csharp",
   "name": "C#",
   "pygments_lexer": "csharp",
   "version": "8.0"
  }
 },
 "nbformat": 4,
 "nbformat_minor": 4
}