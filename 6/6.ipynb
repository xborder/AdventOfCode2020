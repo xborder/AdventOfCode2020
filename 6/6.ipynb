{
 "cells": [
  {
   "cell_type": "code",
   "execution_count": 1,
   "metadata": {},
   "source": [
    "using System.IO;\n",
    "\n",
    "using(var reader = new StreamReader(\"input\")) {\n",
    "\n",
    "    var totalQuestions = 0;\n",
    "    var groupAnswers = 0;\n",
    "    var questionsAnseweredPerGroup = new HashSet<char>();\n",
    "\n",
    "    var line = reader.ReadLine();\n",
    "\n",
    "    while (line != null) {\n",
    "        \n",
    "        if (string.IsNullOrEmpty(line)) {\n",
    "            //new group, resetting count\n",
    "            totalQuestions += groupAnswers;\n",
    "            groupAnswers = 0;\n",
    "            questionsAnseweredPerGroup.Clear();\n",
    "        } else {    \n",
    "            foreach (var answer in line.ToCharArray()) {\n",
    "                if (!questionsAnseweredPerGroup.Contains(answer)) {\n",
    "                    groupAnswers += 1;\n",
    "                    questionsAnseweredPerGroup.Add(answer);\n",
    "                }\n",
    "            }\n",
    "        }\n",
    "\n",
    "        line = reader.ReadLine();\n",
    "        if (line == null) { //we've reached the end\n",
    "            totalQuestions += groupAnswers;\n",
    "        }\n",
    "    }\n",
    "\n",
    "    Console.Write(totalQuestions);\n",
    "}"
   ],
   "outputs": [
    {
     "output_type": "execute_result",
     "data": {
      "text/plain": "6768"
     },
     "execution_count": 1,
     "metadata": {}
    }
   ]
  },
  {
   "cell_type": "code",
   "execution_count": 1,
   "metadata": {},
   "source": [
    "using System.IO;\n",
    "\n",
    "using(var reader = new StreamReader(\"input\")) {\n",
    "\n",
    "    var totalQuestions = 0;\n",
    "    var groupMembers = 0;\n",
    "    var questionsAnseweredPerGroup = new Dictionary<char,int>();\n",
    "\n",
    "    var line = reader.ReadLine();\n",
    "\n",
    "    while (line != null) {\n",
    "        \n",
    "        if (string.IsNullOrEmpty(line)) {\n",
    "            //new group, resetting count\n",
    "            totalQuestions += questionsAnseweredPerGroup.Values.Where( v => v == groupMembers).Count();\n",
    "            groupMembers = 0;\n",
    "            questionsAnseweredPerGroup.Clear();\n",
    "        } else {    \n",
    "            groupMembers++;\n",
    "            foreach (var answer in line.ToCharArray()) {\n",
    "                if (!questionsAnseweredPerGroup.ContainsKey(answer)) {\n",
    "                    questionsAnseweredPerGroup.Add(answer, 1);\n",
    "                } else {\n",
    "                    questionsAnseweredPerGroup[answer]++;\n",
    "                }\n",
    "            }\n",
    "        }\n",
    "\n",
    "        line = reader.ReadLine();\n",
    "        if (line == null) { //we've reached the end\n",
    "            totalQuestions += questionsAnseweredPerGroup.Values.Where( v => v == groupMembers).Count();\n",
    "        }\n",
    "    }\n",
    "\n",
    "    Console.Write(totalQuestions);\n",
    "}"
   ],
   "outputs": [
    {
     "output_type": "execute_result",
     "data": {
      "text/plain": "3489"
     },
     "execution_count": 1,
     "metadata": {}
    }
   ]
  }
 ],
 "metadata": {
  "kernelspec": {
   "display_name": ".NET (C#)",
   "language": "C#",
   "name": ".net-csharp"
  },
  "language_info": {
   "file_extension": ".cs",
   "mimetype": "text/x-csharp",
   "name": "C#",
   "pygments_lexer": "csharp",
   "version": "8.0"
  }
 },
 "nbformat": 4,
 "nbformat_minor": 4
}