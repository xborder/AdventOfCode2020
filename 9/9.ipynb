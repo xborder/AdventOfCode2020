{
 "cells": [
  {
   "cell_type": "code",
   "execution_count": 1,
   "metadata": {},
   "source": [
    "using System.IO;\n",
    "\n",
    "long[] input = File.ReadAllLines(\"input\").Select(l => Int64.Parse(l)).ToArray();\n",
    "int preamble = 25;\n",
    "\n",
    "bool foundPair(long[] input, long number) {\n",
    "    for(int j = 0; j < input.Length-1; j++) {\n",
    "        for(int k = j+1; k < input.Length ; k++) {\n",
    "            if(input[k]+input[j] == number) {\n",
    "                return true;\n",
    "            }\n",
    "        }\n",
    "    }\n",
    "    return false;\n",
    "}\n",
    "for(int i = preamble; i< input.Length; i++) {\n",
    "    var subarray = input.Skip(i-preamble).Take(preamble).OrderBy(num => num).ToArray();\n",
    "    \n",
    "    //Console.WriteLine(subarray.ToDisplayString() + \" \" + input[i]);\n",
    "    var found = foundPair(subarray, input[i]);\n",
    "    if(!found) {\n",
    "        Console.Write(input[i]);\n",
    "        break;\n",
    "    }\n",
    "}"
   ],
   "outputs": [
    {
     "output_type": "execute_result",
     "data": {
      "text/plain": "1124361034"
     },
     "execution_count": 1,
     "metadata": {}
    }
   ]
  },
  {
   "cell_type": "code",
   "execution_count": 1,
   "metadata": {},
   "source": [
    "using System.IO;\n",
    "\n",
    "long[] input = File.ReadAllLines(\"input\").Select(l => Int64.Parse(l)).ToArray();\n",
    "int preamble = 5;\n",
    "\n",
    "bool foundPair(long[] input, long number) {\n",
    "    for(int j = 0; j < input.Length-1; j++) {\n",
    "        for(int k = j+1; k < input.Length ; k++) {\n",
    "            if(input[k]+input[j] == number) {\n",
    "                return true;\n",
    "            }\n",
    "        }\n",
    "    }\n",
    "    return false;\n",
    "}\n",
    "\n",
    "for(int i = preamble; i< input.Length; i++) {\n",
    "    var subarray = input.Skip(i-preamble).Take(preamble).ToArray();\n",
    "    \n",
    "    var found = foundPair(subarray, input[i]);\n",
    "    if(!found) {\n",
    "        Console.WriteLine(input[i]);\n",
    "        break;\n",
    "    }\n",
    "}\n",
    "\n",
    ""
   ],
   "outputs": []
  },
  {
   "cell_type": "code",
   "execution_count": 1,
   "metadata": {},
   "source": [
    "using System.IO;\n",
    "\n",
    "long[] input = File.ReadAllLines(\"input\").Select(l => Int64.Parse(l)).ToArray();\n",
    "int preamble = 25;\n",
    "\n",
    "bool foundPair(long[] input, long number) {\n",
    "    for(int j = 0; j < input.Length-1; j++) {\n",
    "        for(int k = j+1; k < input.Length ; k++) {\n",
    "            if(input[k]+input[j] == number) {\n",
    "                return true;\n",
    "            }\n",
    "        }\n",
    "    }\n",
    "    return false;\n",
    "}\n",
    "\n",
    "long invalid = 0;\n",
    "for(int i = preamble; i< input.Length; i++) {\n",
    "    var subarray = input.Skip(i-preamble).Take(preamble).ToArray();\n",
    "    \n",
    "    var found = foundPair(subarray, input[i]);\n",
    "    if(!found) {\n",
    "        invalid = input[i];\n",
    "        break;\n",
    "    }\n",
    "}\n",
    "\n",
    "for(int i = preamble; i< input.Length; i++) {\n",
    "    var subarray = input.Skip(i-preamble).Take(preamble).ToArray();\n",
    "    long n = subarray.Sum();\n",
    "    if (n < invalid/2) { \n",
    "        continue;\n",
    "    }\n",
    "    \n",
    "    long[] ordered = null;\n",
    "\n",
    "    for(int j = 0; j < subarray.Length; j++) {\n",
    "        n -= subarray[j];\n",
    "        if (n == invalid) {\n",
    "            ordered = subarray.Skip(j+1).OrderBy(n=>n).ToArray();\n",
    "            break;\n",
    "        }\n",
    "    }\n",
    "    \n",
    "    if(n == invalid) {\n",
    "        Console.WriteLine(ordered.First() + ordered.Last());\n",
    "        break;\n",
    "    }\n",
    "}"
   ],
   "outputs": [
    {
     "output_type": "execute_result",
     "data": {
      "text/plain": "129444555\r\n"
     },
     "execution_count": 1,
     "metadata": {}
    }
   ]
  }
 ],
 "metadata": {
  "kernelspec": {
   "display_name": ".NET (C#)",
   "language": "C#",
   "name": ".net-csharp"
  },
  "language_info": {
   "file_extension": ".cs",
   "mimetype": "text/x-csharp",
   "name": "C#",
   "pygments_lexer": "csharp",
   "version": "8.0"
  }
 },
 "nbformat": 4,
 "nbformat_minor": 4
}