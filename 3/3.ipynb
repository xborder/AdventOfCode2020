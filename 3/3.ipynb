{
 "cells": [
  {
   "cell_type": "code",
   "execution_count": 1,
   "metadata": {},
   "source": [
    "using System.IO;\n",
    "\n",
    "void printMap(char[][] map) {\n",
    "    for (int i = 0 ; i < map.Length; i++) {\n",
    "        var line = \"\";\n",
    "        for (int j = 0; j < map[i].Length; j++) {\n",
    "            line += map[i][j];\n",
    "        }\n",
    "        Console.WriteLine(line);\n",
    "    }\n",
    "    Console.WriteLine(\"------------------\");\n",
    "}\n",
    "\n",
    "bool isTree(char[][] map, int x, int y) {\n",
    "    return map[x][y] == '#';\n",
    "}\n",
    "\n",
    "\n",
    "long findTrees(char[][] map, int x, int y, int downLeap, int rightLeap) {\n",
    "\n",
    "    if (x >= map.Length) {\n",
    "        // we've reached the bottom of the map\n",
    "        return 0;\n",
    "    }\n",
    "\n",
    "    if (y > map[x].Length - 1) { \n",
    "        // we've reached the edge, go back to the beginning of the line\n",
    "        return findTrees(map, x, y % map[x].Length, downLeap, rightLeap);\n",
    "    }    \n",
    "\n",
    "    return (isTree(map, x, y) ? 1 : 0) + findTrees(map, x + downLeap, y + rightLeap, downLeap, rightLeap);\n",
    "}\n",
    "\n",
    "string[] text = File.ReadAllLines(@\"input\");\n",
    "\n",
    "char[][] map = text.Select(l => l.ToCharArray()).ToArray();\n",
    "\n",
    "// Part 1\n",
    "Console.WriteLine(findTrees(map, 0, 0, 1, 3));\n",
    "\n",
    "// Part 2\n",
    "Console.WriteLine(findTrees(map, 0, 0, 1, 1) * findTrees(map, 0, 0, 1, 3) * findTrees(map, 0, 0, 1, 5) * findTrees(map, 0, 0, 1, 7) * findTrees(map, 0, 0, 2, 1));"
   ],
   "outputs": [
    {
     "output_type": "execute_result",
     "data": {
      "text/plain": "203\r\n"
     },
     "execution_count": 1,
     "metadata": {}
    },
    {
     "output_type": "execute_result",
     "data": {
      "text/plain": "3316272960\r\n"
     },
     "execution_count": 1,
     "metadata": {}
    }
   ]
  },
  {
   "cell_type": "code",
   "execution_count": 1,
   "metadata": {},
   "source": [
    ""
   ],
   "outputs": []
  }
 ],
 "metadata": {
  "kernelspec": {
   "display_name": ".NET (C#)",
   "language": "C#",
   "name": ".net-csharp"
  },
  "language_info": {
   "file_extension": ".cs",
   "mimetype": "text/x-csharp",
   "name": "C#",
   "pygments_lexer": "csharp",
   "version": "8.0"
  }
 },
 "nbformat": 4,
 "nbformat_minor": 4
}